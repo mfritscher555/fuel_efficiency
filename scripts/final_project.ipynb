{
 "cells": [
  {
   "cell_type": "markdown",
   "id": "1f607a2d",
   "metadata": {},
   "source": [
    "# Predicting Vehicle MPG"
   ]
  },
  {
   "cell_type": "code",
   "execution_count": 1,
   "id": "409808ad",
   "metadata": {},
   "outputs": [],
   "source": [
    "# imports\n",
    "import pandas as pd\n",
    "import matplotlib.pyplot as plt\n",
    "import seaborn as sns\n",
    "import numpy as np\n",
    "from sklearn import tree\n",
    "from sklearn.ensemble import RandomForestRegressor\n",
    "from sklearn.model_selection import train_test_split\n",
    "from sklearn.ensemble import HistGradientBoostingRegressor\n",
    "from sklearn.model_selection import GridSearchCV\n",
    "from sklearn import metrics\n",
    "from sklearn.inspection import permutation_importance\n",
    "import xlsxwriter\n",
    "\n",
    "\n",
    "# Figures inline and set visualization style\n",
    "%matplotlib inline\n",
    "sns.set()"
   ]
  },
  {
   "cell_type": "markdown",
   "id": "23e785ba",
   "metadata": {},
   "source": [
    "## Importing the data "
   ]
  },
  {
   "cell_type": "code",
   "execution_count": 2,
   "id": "21a0ea0f",
   "metadata": {},
   "outputs": [],
   "source": [
    "df_training = pd.read_excel(\"data.xlsx\", sheet_name=\"1. Training Set of 1500 Cars\")\n",
    "target = df_training.mpg\n",
    "\n",
    "df_testing = pd.read_excel(\"C://Users//Matthew//PycharmProjects//isds7103_project//df_testing_cleaned.xlsx\")\n",
    "\n",
    "df_predictions = pd.read_excel(\"C://Users//Matthew//PycharmProjects//isds7103_project//df_testing_cleaned.xlsx\")\n"
   ]
  },
  {
   "cell_type": "markdown",
   "id": "cac3805a",
   "metadata": {},
   "source": [
    "We see that the training set is clean, but the testing set needs some fixing.\n",
    "\n",
    "Also, any binary variables for both sets will be recoded to be 0 or 1, instead of the default."
   ]
  },
  {
   "cell_type": "code",
   "execution_count": 3,
   "id": "cc3c759d",
   "metadata": {},
   "outputs": [
    {
     "name": "stdout",
     "output_type": "stream",
     "text": [
      "<class 'pandas.core.frame.DataFrame'>\n",
      "RangeIndex: 300 entries, 0 to 299\n",
      "Data columns (total 25 columns):\n",
      " #   Column      Non-Null Count  Dtype  \n",
      "---  ------      --------------  -----  \n",
      " 0   Unnamed: 0  300 non-null    int64  \n",
      " 1   id          300 non-null    int64  \n",
      " 2   origin      300 non-null    object \n",
      " 3   maker       300 non-null    object \n",
      " 4   model       300 non-null    object \n",
      " 5   yr          300 non-null    int64  \n",
      " 6   cyl         300 non-null    int64  \n",
      " 7   2wh         300 non-null    int64  \n",
      " 8   auto        300 non-null    int64  \n",
      " 9   p/s         300 non-null    int64  \n",
      " 10  a/c         300 non-null    int64  \n",
      " 11  fro         300 non-null    int64  \n",
      " 12  wght        300 non-null    int64  \n",
      " 13  disp        300 non-null    float64\n",
      " 14  hp          300 non-null    int64  \n",
      " 15  lngth       300 non-null    float64\n",
      " 16  wdth        300 non-null    float64\n",
      " 17  wb          300 non-null    float64\n",
      " 18  reli        300 non-null    int64  \n",
      " 19  dom         300 non-null    int64  \n",
      " 20  eur         300 non-null    int64  \n",
      " 21  sales       300 non-null    int64  \n",
      " 22  price       300 non-null    float64\n",
      " 23  markup      300 non-null    float64\n",
      " 24  mpg         300 non-null    object \n",
      "dtypes: float64(6), int64(15), object(4)\n",
      "memory usage: 58.7+ KB\n"
     ]
    }
   ],
   "source": [
    "df_testing.info()"
   ]
  },
  {
   "cell_type": "code",
   "execution_count": 4,
   "id": "338bfca2",
   "metadata": {},
   "outputs": [
    {
     "data": {
      "text/html": [
       "<div>\n",
       "<style scoped>\n",
       "    .dataframe tbody tr th:only-of-type {\n",
       "        vertical-align: middle;\n",
       "    }\n",
       "\n",
       "    .dataframe tbody tr th {\n",
       "        vertical-align: top;\n",
       "    }\n",
       "\n",
       "    .dataframe thead th {\n",
       "        text-align: right;\n",
       "    }\n",
       "</style>\n",
       "<table border=\"1\" class=\"dataframe\">\n",
       "  <thead>\n",
       "    <tr style=\"text-align: right;\">\n",
       "      <th></th>\n",
       "      <th>id</th>\n",
       "      <th>origin</th>\n",
       "      <th>maker</th>\n",
       "      <th>model</th>\n",
       "      <th>yr</th>\n",
       "      <th>cyl</th>\n",
       "      <th>2wh</th>\n",
       "      <th>auto</th>\n",
       "      <th>p/s</th>\n",
       "      <th>a/c</th>\n",
       "      <th>...</th>\n",
       "      <th>wdth</th>\n",
       "      <th>wb</th>\n",
       "      <th>reli</th>\n",
       "      <th>fid</th>\n",
       "      <th>dom</th>\n",
       "      <th>eur</th>\n",
       "      <th>sales</th>\n",
       "      <th>price</th>\n",
       "      <th>markup</th>\n",
       "      <th>mpg</th>\n",
       "    </tr>\n",
       "  </thead>\n",
       "  <tbody>\n",
       "    <tr>\n",
       "      <th>0</th>\n",
       "      <td>1</td>\n",
       "      <td>Japan</td>\n",
       "      <td>Toyota</td>\n",
       "      <td>TY-CELI</td>\n",
       "      <td>75</td>\n",
       "      <td>4</td>\n",
       "      <td>2</td>\n",
       "      <td>0</td>\n",
       "      <td>0</td>\n",
       "      <td>X</td>\n",
       "      <td>...</td>\n",
       "      <td>64.0</td>\n",
       "      <td>95.3</td>\n",
       "      <td>5</td>\n",
       "      <td>1</td>\n",
       "      <td>no</td>\n",
       "      <td>N</td>\n",
       "      <td>64922</td>\n",
       "      <td>3694</td>\n",
       "      <td>2.2030</td>\n",
       "      <td>18</td>\n",
       "    </tr>\n",
       "    <tr>\n",
       "      <th>1</th>\n",
       "      <td>2</td>\n",
       "      <td>Japan</td>\n",
       "      <td>Toyota</td>\n",
       "      <td>TY-CORO</td>\n",
       "      <td>75</td>\n",
       "      <td>4</td>\n",
       "      <td>4</td>\n",
       "      <td>0</td>\n",
       "      <td>0</td>\n",
       "      <td>X</td>\n",
       "      <td>...</td>\n",
       "      <td>62.0</td>\n",
       "      <td>93.3</td>\n",
       "      <td>5</td>\n",
       "      <td>1</td>\n",
       "      <td>no</td>\n",
       "      <td>N</td>\n",
       "      <td>151177</td>\n",
       "      <td>3089</td>\n",
       "      <td>1.7734</td>\n",
       "      <td>21</td>\n",
       "    </tr>\n",
       "    <tr>\n",
       "      <th>2</th>\n",
       "      <td>3</td>\n",
       "      <td>Japan</td>\n",
       "      <td>Datsun</td>\n",
       "      <td>DT-HLB2</td>\n",
       "      <td>75</td>\n",
       "      <td>4</td>\n",
       "      <td>4</td>\n",
       "      <td>0</td>\n",
       "      <td>0</td>\n",
       "      <td>X</td>\n",
       "      <td>...</td>\n",
       "      <td>61.0</td>\n",
       "      <td>92.1</td>\n",
       "      <td>5</td>\n",
       "      <td>2</td>\n",
       "      <td>no</td>\n",
       "      <td>N</td>\n",
       "      <td>140039</td>\n",
       "      <td>3089</td>\n",
       "      <td>1.7593</td>\n",
       "      <td>27</td>\n",
       "    </tr>\n",
       "    <tr>\n",
       "      <th>3</th>\n",
       "      <td>4</td>\n",
       "      <td>Japan</td>\n",
       "      <td>Datsun</td>\n",
       "      <td>DT-JHL7</td>\n",
       "      <td>75</td>\n",
       "      <td>4</td>\n",
       "      <td>4</td>\n",
       "      <td>0</td>\n",
       "      <td>0</td>\n",
       "      <td>X</td>\n",
       "      <td>...</td>\n",
       "      <td>63.0</td>\n",
       "      <td>96.5</td>\n",
       "      <td>5</td>\n",
       "      <td>2</td>\n",
       "      <td>no</td>\n",
       "      <td>N</td>\n",
       "      <td>50914</td>\n",
       "      <td>3639</td>\n",
       "      <td>2.1476</td>\n",
       "      <td>22</td>\n",
       "    </tr>\n",
       "    <tr>\n",
       "      <th>4</th>\n",
       "      <td>5</td>\n",
       "      <td>Japan</td>\n",
       "      <td>Datsun</td>\n",
       "      <td>DT-HL61</td>\n",
       "      <td>75</td>\n",
       "      <td>4</td>\n",
       "      <td>4</td>\n",
       "      <td>0</td>\n",
       "      <td>0</td>\n",
       "      <td>X</td>\n",
       "      <td>...</td>\n",
       "      <td>63.0</td>\n",
       "      <td>98.4</td>\n",
       "      <td>4</td>\n",
       "      <td>2</td>\n",
       "      <td>no</td>\n",
       "      <td>N</td>\n",
       "      <td>18527</td>\n",
       "      <td>4079</td>\n",
       "      <td>2.4706</td>\n",
       "      <td>22</td>\n",
       "    </tr>\n",
       "  </tbody>\n",
       "</table>\n",
       "<p>5 rows × 25 columns</p>\n",
       "</div>"
      ],
      "text/plain": [
       "   id origin   maker    model  yr  cyl  2wh  auto  p/s a/c  ...  wdth    wb  \\\n",
       "0   1  Japan  Toyota  TY-CELI  75    4    2     0    0   X  ...  64.0  95.3   \n",
       "1   2  Japan  Toyota  TY-CORO  75    4    4     0    0   X  ...  62.0  93.3   \n",
       "2   3  Japan  Datsun  DT-HLB2  75    4    4     0    0   X  ...  61.0  92.1   \n",
       "3   4  Japan  Datsun  DT-JHL7  75    4    4     0    0   X  ...  63.0  96.5   \n",
       "4   5  Japan  Datsun  DT-HL61  75    4    4     0    0   X  ...  63.0  98.4   \n",
       "\n",
       "   reli  fid  dom  eur   sales  price  markup mpg  \n",
       "0     5    1   no    N   64922   3694  2.2030  18  \n",
       "1     5    1   no    N  151177   3089  1.7734  21  \n",
       "2     5    2   no    N  140039   3089  1.7593  27  \n",
       "3     5    2   no    N   50914   3639  2.1476  22  \n",
       "4     4    2   no    N   18527   4079  2.4706  22  \n",
       "\n",
       "[5 rows x 25 columns]"
      ]
     },
     "execution_count": 4,
     "metadata": {},
     "output_type": "execute_result"
    }
   ],
   "source": [
    "df_training.head()"
   ]
  },
  {
   "cell_type": "code",
   "execution_count": 5,
   "id": "25c3edf5",
   "metadata": {},
   "outputs": [],
   "source": [
    "def ac():\n",
    "    ac_list = []\n",
    "    for i in df_training[\"a/c\"]:\n",
    "        if i == \"X\":\n",
    "            ac_list.append(0)\n",
    "        elif i == \"O\":\n",
    "            ac_list.append(1)\n",
    "\n",
    "    return ac_list\n",
    "\n",
    "df_training[\"a/c\"] = ac()        "
   ]
  },
  {
   "cell_type": "markdown",
   "id": "df62772a",
   "metadata": {},
   "source": [
    "Now that A/C column is recoded to 0s and 1s, let's do the same for the columns, dom (domestic), eur (european). "
   ]
  },
  {
   "cell_type": "code",
   "execution_count": 6,
   "id": "e6416c3c",
   "metadata": {},
   "outputs": [],
   "source": [
    "def dom():\n",
    "    dom_list = []\n",
    "    for i in df_training[\"dom\"]:\n",
    "        if i == \"yes\":\n",
    "            dom_list.append(1)\n",
    "        elif i == \"no\":\n",
    "            dom_list.append(0)\n",
    "\n",
    "    return dom_list\n",
    "\n",
    "df_training[\"dom\"] = dom()"
   ]
  },
  {
   "cell_type": "code",
   "execution_count": 7,
   "id": "a60576be",
   "metadata": {},
   "outputs": [],
   "source": [
    "def eur():\n",
    "    eur_list = []\n",
    "    for i in df_training[\"eur\"]:\n",
    "        if i == \"Y\":\n",
    "            eur_list.append(1)\n",
    "        elif i == \"N\":\n",
    "            eur_list.append(0)\n",
    "\n",
    "    return eur_list\n",
    "\n",
    "df_training[\"eur\"] = eur()\n"
   ]
  },
  {
   "cell_type": "markdown",
   "id": "3119e57f",
   "metadata": {},
   "source": [
    "Now all recodings are done for the training set"
   ]
  },
  {
   "cell_type": "markdown",
   "id": "4963ae29",
   "metadata": {},
   "source": [
    "## Dummy Variables for the Training Set"
   ]
  },
  {
   "cell_type": "markdown",
   "id": "534a3ca9",
   "metadata": {},
   "source": [
    "For the origin of the car manufacturer, we can recode this such that they are dummy variables. Using the get_dummies() method from pandas, four dummy variables are created (though we technically only need n-1 dummies). From the results in the cell below, we see that there are 866 American cars, 351 European, 276 Japanese, and 7 Korean. However, since there are no Korean cars in the testing set, let's recode Korean and Japanese cars as Asian."
   ]
  },
  {
   "cell_type": "code",
   "execution_count": 8,
   "id": "a8ebe0e4",
   "metadata": {
    "scrolled": false
   },
   "outputs": [
    {
     "data": {
      "text/plain": [
       "Europe  Japan  Korean  U.S.\n",
       "0       0      0       1       866\n",
       "1       0      0       0       351\n",
       "0       1      0       0       276\n",
       "        0      1       0         7\n",
       "dtype: int64"
      ]
     },
     "execution_count": 8,
     "metadata": {},
     "output_type": "execute_result"
    }
   ],
   "source": [
    "pd.get_dummies(df_training[\"origin\"]).value_counts()\n"
   ]
  },
  {
   "cell_type": "markdown",
   "id": "ce485a3e",
   "metadata": {},
   "source": [
    "Here we change the name of the values in the origin column from Japan to Asian, then put Korean cars in same category as Japanese for the training set. Keep in mind that the testing set does not have any Korean cars.\n"
   ]
  },
  {
   "cell_type": "code",
   "execution_count": 9,
   "id": "5b2f8795",
   "metadata": {},
   "outputs": [
    {
     "data": {
      "text/plain": [
       "U.S.      866\n",
       "Europe    351\n",
       "Asian     283\n",
       "Name: origin, dtype: int64"
      ]
     },
     "execution_count": 9,
     "metadata": {},
     "output_type": "execute_result"
    }
   ],
   "source": [
    "df_training['origin'] = df_training['origin'].replace({'Japan':'Asian'})\n",
    "df_training['origin'] = df_training['origin'].replace({'Korean':'Asian'})\n",
    "df_training['origin'].value_counts()"
   ]
  },
  {
   "cell_type": "code",
   "execution_count": 10,
   "id": "f5cba3d1",
   "metadata": {},
   "outputs": [
    {
     "data": {
      "text/plain": [
       "Asian  Europe  U.S.\n",
       "0      0       1       866\n",
       "       1       0       351\n",
       "1      0       0       283\n",
       "dtype: int64"
      ]
     },
     "execution_count": 10,
     "metadata": {},
     "output_type": "execute_result"
    }
   ],
   "source": [
    "pd.get_dummies(df_training[\"origin\"]).value_counts()"
   ]
  },
  {
   "cell_type": "markdown",
   "id": "e6ad211d",
   "metadata": {},
   "source": [
    "Next, we insert the dummy variables into the data frame (4 are created, though, since we used the drop_first = False argument)."
   ]
  },
  {
   "cell_type": "code",
   "execution_count": 11,
   "id": "186c7e66",
   "metadata": {},
   "outputs": [
    {
     "data": {
      "text/html": [
       "<div>\n",
       "<style scoped>\n",
       "    .dataframe tbody tr th:only-of-type {\n",
       "        vertical-align: middle;\n",
       "    }\n",
       "\n",
       "    .dataframe tbody tr th {\n",
       "        vertical-align: top;\n",
       "    }\n",
       "\n",
       "    .dataframe thead th {\n",
       "        text-align: right;\n",
       "    }\n",
       "</style>\n",
       "<table border=\"1\" class=\"dataframe\">\n",
       "  <thead>\n",
       "    <tr style=\"text-align: right;\">\n",
       "      <th></th>\n",
       "      <th>id</th>\n",
       "      <th>maker</th>\n",
       "      <th>model</th>\n",
       "      <th>yr</th>\n",
       "      <th>cyl</th>\n",
       "      <th>2wh</th>\n",
       "      <th>auto</th>\n",
       "      <th>p/s</th>\n",
       "      <th>a/c</th>\n",
       "      <th>fro</th>\n",
       "      <th>...</th>\n",
       "      <th>fid</th>\n",
       "      <th>dom</th>\n",
       "      <th>eur</th>\n",
       "      <th>sales</th>\n",
       "      <th>price</th>\n",
       "      <th>markup</th>\n",
       "      <th>mpg</th>\n",
       "      <th>origin_Asian</th>\n",
       "      <th>origin_Europe</th>\n",
       "      <th>origin_U.S.</th>\n",
       "    </tr>\n",
       "  </thead>\n",
       "  <tbody>\n",
       "    <tr>\n",
       "      <th>0</th>\n",
       "      <td>1</td>\n",
       "      <td>Toyota</td>\n",
       "      <td>TY-CELI</td>\n",
       "      <td>75</td>\n",
       "      <td>4</td>\n",
       "      <td>2</td>\n",
       "      <td>0</td>\n",
       "      <td>0</td>\n",
       "      <td>0</td>\n",
       "      <td>0</td>\n",
       "      <td>...</td>\n",
       "      <td>1</td>\n",
       "      <td>0</td>\n",
       "      <td>0</td>\n",
       "      <td>64922</td>\n",
       "      <td>3694</td>\n",
       "      <td>2.2030</td>\n",
       "      <td>18</td>\n",
       "      <td>1</td>\n",
       "      <td>0</td>\n",
       "      <td>0</td>\n",
       "    </tr>\n",
       "    <tr>\n",
       "      <th>1</th>\n",
       "      <td>2</td>\n",
       "      <td>Toyota</td>\n",
       "      <td>TY-CORO</td>\n",
       "      <td>75</td>\n",
       "      <td>4</td>\n",
       "      <td>4</td>\n",
       "      <td>0</td>\n",
       "      <td>0</td>\n",
       "      <td>0</td>\n",
       "      <td>0</td>\n",
       "      <td>...</td>\n",
       "      <td>1</td>\n",
       "      <td>0</td>\n",
       "      <td>0</td>\n",
       "      <td>151177</td>\n",
       "      <td>3089</td>\n",
       "      <td>1.7734</td>\n",
       "      <td>21</td>\n",
       "      <td>1</td>\n",
       "      <td>0</td>\n",
       "      <td>0</td>\n",
       "    </tr>\n",
       "    <tr>\n",
       "      <th>2</th>\n",
       "      <td>3</td>\n",
       "      <td>Datsun</td>\n",
       "      <td>DT-HLB2</td>\n",
       "      <td>75</td>\n",
       "      <td>4</td>\n",
       "      <td>4</td>\n",
       "      <td>0</td>\n",
       "      <td>0</td>\n",
       "      <td>0</td>\n",
       "      <td>0</td>\n",
       "      <td>...</td>\n",
       "      <td>2</td>\n",
       "      <td>0</td>\n",
       "      <td>0</td>\n",
       "      <td>140039</td>\n",
       "      <td>3089</td>\n",
       "      <td>1.7593</td>\n",
       "      <td>27</td>\n",
       "      <td>1</td>\n",
       "      <td>0</td>\n",
       "      <td>0</td>\n",
       "    </tr>\n",
       "    <tr>\n",
       "      <th>3</th>\n",
       "      <td>4</td>\n",
       "      <td>Datsun</td>\n",
       "      <td>DT-JHL7</td>\n",
       "      <td>75</td>\n",
       "      <td>4</td>\n",
       "      <td>4</td>\n",
       "      <td>0</td>\n",
       "      <td>0</td>\n",
       "      <td>0</td>\n",
       "      <td>0</td>\n",
       "      <td>...</td>\n",
       "      <td>2</td>\n",
       "      <td>0</td>\n",
       "      <td>0</td>\n",
       "      <td>50914</td>\n",
       "      <td>3639</td>\n",
       "      <td>2.1476</td>\n",
       "      <td>22</td>\n",
       "      <td>1</td>\n",
       "      <td>0</td>\n",
       "      <td>0</td>\n",
       "    </tr>\n",
       "    <tr>\n",
       "      <th>4</th>\n",
       "      <td>5</td>\n",
       "      <td>Datsun</td>\n",
       "      <td>DT-HL61</td>\n",
       "      <td>75</td>\n",
       "      <td>4</td>\n",
       "      <td>4</td>\n",
       "      <td>0</td>\n",
       "      <td>0</td>\n",
       "      <td>0</td>\n",
       "      <td>0</td>\n",
       "      <td>...</td>\n",
       "      <td>2</td>\n",
       "      <td>0</td>\n",
       "      <td>0</td>\n",
       "      <td>18527</td>\n",
       "      <td>4079</td>\n",
       "      <td>2.4706</td>\n",
       "      <td>22</td>\n",
       "      <td>1</td>\n",
       "      <td>0</td>\n",
       "      <td>0</td>\n",
       "    </tr>\n",
       "  </tbody>\n",
       "</table>\n",
       "<p>5 rows × 27 columns</p>\n",
       "</div>"
      ],
      "text/plain": [
       "   id   maker    model  yr  cyl  2wh  auto  p/s  a/c  fro  ...  fid  dom  eur  \\\n",
       "0   1  Toyota  TY-CELI  75    4    2     0    0    0    0  ...    1    0    0   \n",
       "1   2  Toyota  TY-CORO  75    4    4     0    0    0    0  ...    1    0    0   \n",
       "2   3  Datsun  DT-HLB2  75    4    4     0    0    0    0  ...    2    0    0   \n",
       "3   4  Datsun  DT-JHL7  75    4    4     0    0    0    0  ...    2    0    0   \n",
       "4   5  Datsun  DT-HL61  75    4    4     0    0    0    0  ...    2    0    0   \n",
       "\n",
       "    sales  price  markup  mpg  origin_Asian  origin_Europe  origin_U.S.  \n",
       "0   64922   3694  2.2030   18             1              0            0  \n",
       "1  151177   3089  1.7734   21             1              0            0  \n",
       "2  140039   3089  1.7593   27             1              0            0  \n",
       "3   50914   3639  2.1476   22             1              0            0  \n",
       "4   18527   4079  2.4706   22             1              0            0  \n",
       "\n",
       "[5 rows x 27 columns]"
      ]
     },
     "execution_count": 11,
     "metadata": {},
     "output_type": "execute_result"
    }
   ],
   "source": [
    "def dummy_var_origin(df_training):\n",
    "\n",
    "    df_training = pd.get_dummies(df_training, columns=['origin'], drop_first=False)\n",
    "    return df_training   \n",
    "\n",
    "df_training = dummy_var_origin(df_training)\n",
    "df_training.head()"
   ]
  },
  {
   "cell_type": "markdown",
   "id": "efa68d37",
   "metadata": {},
   "source": [
    "Should we do the same process for the make of the car, or are there too many? For now, let's not consider the make or model of the car as features."
   ]
  },
  {
   "cell_type": "markdown",
   "id": "25461e79",
   "metadata": {},
   "source": [
    "## Adding dummy variables into the testing set"
   ]
  },
  {
   "cell_type": "code",
   "execution_count": 12,
   "id": "300eef1c",
   "metadata": {},
   "outputs": [
    {
     "data": {
      "text/plain": [
       "Asia  Europe  US\n",
       "0     0       1     187\n",
       "      1       0      57\n",
       "1     0       0      56\n",
       "dtype: int64"
      ]
     },
     "execution_count": 12,
     "metadata": {},
     "output_type": "execute_result"
    }
   ],
   "source": [
    "df_testing['origin'] = df_testing['origin'].replace({'Japan':'Asian'})\n",
    "pd.get_dummies(df_testing[\"origin\"]).value_counts()\n",
    "\n"
   ]
  },
  {
   "cell_type": "code",
   "execution_count": 13,
   "id": "481d0182",
   "metadata": {},
   "outputs": [
    {
     "data": {
      "text/html": [
       "<div>\n",
       "<style scoped>\n",
       "    .dataframe tbody tr th:only-of-type {\n",
       "        vertical-align: middle;\n",
       "    }\n",
       "\n",
       "    .dataframe tbody tr th {\n",
       "        vertical-align: top;\n",
       "    }\n",
       "\n",
       "    .dataframe thead th {\n",
       "        text-align: right;\n",
       "    }\n",
       "</style>\n",
       "<table border=\"1\" class=\"dataframe\">\n",
       "  <thead>\n",
       "    <tr style=\"text-align: right;\">\n",
       "      <th></th>\n",
       "      <th>Unnamed: 0</th>\n",
       "      <th>id</th>\n",
       "      <th>maker</th>\n",
       "      <th>model</th>\n",
       "      <th>yr</th>\n",
       "      <th>cyl</th>\n",
       "      <th>2wh</th>\n",
       "      <th>auto</th>\n",
       "      <th>p/s</th>\n",
       "      <th>a/c</th>\n",
       "      <th>...</th>\n",
       "      <th>reli</th>\n",
       "      <th>dom</th>\n",
       "      <th>eur</th>\n",
       "      <th>sales</th>\n",
       "      <th>price</th>\n",
       "      <th>markup</th>\n",
       "      <th>mpg</th>\n",
       "      <th>origin_Asia</th>\n",
       "      <th>origin_Europe</th>\n",
       "      <th>origin_US</th>\n",
       "    </tr>\n",
       "  </thead>\n",
       "  <tbody>\n",
       "    <tr>\n",
       "      <th>0</th>\n",
       "      <td>0</td>\n",
       "      <td>1501</td>\n",
       "      <td>Volkswagen</td>\n",
       "      <td>VW-RABB</td>\n",
       "      <td>75</td>\n",
       "      <td>4</td>\n",
       "      <td>5</td>\n",
       "      <td>0</td>\n",
       "      <td>0</td>\n",
       "      <td>0</td>\n",
       "      <td>...</td>\n",
       "      <td>2</td>\n",
       "      <td>0</td>\n",
       "      <td>1</td>\n",
       "      <td>98215</td>\n",
       "      <td>3470.0</td>\n",
       "      <td>2.1005</td>\n",
       "      <td>?</td>\n",
       "      <td>0</td>\n",
       "      <td>1</td>\n",
       "      <td>0</td>\n",
       "    </tr>\n",
       "    <tr>\n",
       "      <th>1</th>\n",
       "      <td>1</td>\n",
       "      <td>1502</td>\n",
       "      <td>Mercedes-Benz</td>\n",
       "      <td>MB-280</td>\n",
       "      <td>75</td>\n",
       "      <td>6</td>\n",
       "      <td>4</td>\n",
       "      <td>1</td>\n",
       "      <td>1</td>\n",
       "      <td>1</td>\n",
       "      <td>...</td>\n",
       "      <td>4</td>\n",
       "      <td>0</td>\n",
       "      <td>1</td>\n",
       "      <td>9218</td>\n",
       "      <td>12756.0</td>\n",
       "      <td>8.9180</td>\n",
       "      <td>?</td>\n",
       "      <td>0</td>\n",
       "      <td>1</td>\n",
       "      <td>0</td>\n",
       "    </tr>\n",
       "    <tr>\n",
       "      <th>2</th>\n",
       "      <td>2</td>\n",
       "      <td>1503</td>\n",
       "      <td>AMC</td>\n",
       "      <td>AM-GREM</td>\n",
       "      <td>75</td>\n",
       "      <td>6</td>\n",
       "      <td>2</td>\n",
       "      <td>0</td>\n",
       "      <td>0</td>\n",
       "      <td>0</td>\n",
       "      <td>...</td>\n",
       "      <td>3</td>\n",
       "      <td>1</td>\n",
       "      <td>0</td>\n",
       "      <td>66614</td>\n",
       "      <td>2798.0</td>\n",
       "      <td>1.4212</td>\n",
       "      <td>?</td>\n",
       "      <td>0</td>\n",
       "      <td>0</td>\n",
       "      <td>1</td>\n",
       "    </tr>\n",
       "    <tr>\n",
       "      <th>3</th>\n",
       "      <td>3</td>\n",
       "      <td>1504</td>\n",
       "      <td>AMC</td>\n",
       "      <td>AM-PACE</td>\n",
       "      <td>75</td>\n",
       "      <td>6</td>\n",
       "      <td>2</td>\n",
       "      <td>0</td>\n",
       "      <td>0</td>\n",
       "      <td>0</td>\n",
       "      <td>...</td>\n",
       "      <td>1</td>\n",
       "      <td>1</td>\n",
       "      <td>0</td>\n",
       "      <td>96769</td>\n",
       "      <td>3299.0</td>\n",
       "      <td>1.6917</td>\n",
       "      <td>?</td>\n",
       "      <td>0</td>\n",
       "      <td>0</td>\n",
       "      <td>1</td>\n",
       "    </tr>\n",
       "    <tr>\n",
       "      <th>4</th>\n",
       "      <td>4</td>\n",
       "      <td>1505</td>\n",
       "      <td>Chrysler</td>\n",
       "      <td>PL-DUST</td>\n",
       "      <td>75</td>\n",
       "      <td>6</td>\n",
       "      <td>2</td>\n",
       "      <td>0</td>\n",
       "      <td>0</td>\n",
       "      <td>0</td>\n",
       "      <td>...</td>\n",
       "      <td>2</td>\n",
       "      <td>1</td>\n",
       "      <td>0</td>\n",
       "      <td>62909</td>\n",
       "      <td>3243.0</td>\n",
       "      <td>1.7583</td>\n",
       "      <td>?</td>\n",
       "      <td>0</td>\n",
       "      <td>0</td>\n",
       "      <td>1</td>\n",
       "    </tr>\n",
       "  </tbody>\n",
       "</table>\n",
       "<p>5 rows × 27 columns</p>\n",
       "</div>"
      ],
      "text/plain": [
       "   Unnamed: 0    id          maker    model  yr  cyl  2wh  auto  p/s  a/c  \\\n",
       "0           0  1501     Volkswagen  VW-RABB  75    4    5     0    0    0   \n",
       "1           1  1502  Mercedes-Benz   MB-280  75    6    4     1    1    1   \n",
       "2           2  1503            AMC  AM-GREM  75    6    2     0    0    0   \n",
       "3           3  1504            AMC  AM-PACE  75    6    2     0    0    0   \n",
       "4           4  1505       Chrysler  PL-DUST  75    6    2     0    0    0   \n",
       "\n",
       "   ...  reli  dom  eur  sales    price  markup  mpg  origin_Asia  \\\n",
       "0  ...     2    0    1  98215   3470.0  2.1005    ?            0   \n",
       "1  ...     4    0    1   9218  12756.0  8.9180    ?            0   \n",
       "2  ...     3    1    0  66614   2798.0  1.4212    ?            0   \n",
       "3  ...     1    1    0  96769   3299.0  1.6917    ?            0   \n",
       "4  ...     2    1    0  62909   3243.0  1.7583    ?            0   \n",
       "\n",
       "   origin_Europe  origin_US  \n",
       "0              1          0  \n",
       "1              1          0  \n",
       "2              0          1  \n",
       "3              0          1  \n",
       "4              0          1  \n",
       "\n",
       "[5 rows x 27 columns]"
      ]
     },
     "execution_count": 13,
     "metadata": {},
     "output_type": "execute_result"
    }
   ],
   "source": [
    "def dummy_var_origin2(df_testing):\n",
    "    df_testing = pd.get_dummies(df_testing, columns=['origin'], drop_first=False)\n",
    "    return df_testing   \n",
    "\n",
    "df_testing = dummy_var_origin2(df_testing)\n",
    "df_testing.head()"
   ]
  },
  {
   "cell_type": "markdown",
   "id": "f43fae85",
   "metadata": {},
   "source": [
    "## Feature Selection\n",
    "\n",
    "Here we are experimenting with the best features for the ML model."
   ]
  },
  {
   "cell_type": "code",
   "execution_count": 14,
   "id": "e97425b6",
   "metadata": {},
   "outputs": [],
   "source": [
    "features = ['yr','cyl','2wh','auto','p/s','a/c','fro','wght','disp','hp',\n",
    "           'lngth','wdth','wb','reli','dom','eur','sales','price','markup',\n",
    "            'origin_Europe','origin_Asian','origin_U.S.','mpg']\n",
    "def select_features(df_training, features):\n",
    "    df_training = df_training[features]\n",
    "    return df_training"
   ]
  },
  {
   "cell_type": "code",
   "execution_count": 15,
   "id": "ed5512df",
   "metadata": {},
   "outputs": [],
   "source": [
    "features2 = ['yr','cyl','2wh','auto','p/s','a/c','fro','wght','disp','hp',\n",
    "           'lngth','wdth','wb','reli','dom','eur','sales','price','markup',\n",
    "            'origin_Europe','origin_Asia','origin_US','mpg']\n",
    "df_testing = df_testing[features2]"
   ]
  },
  {
   "cell_type": "code",
   "execution_count": 16,
   "id": "c03ef1d3",
   "metadata": {},
   "outputs": [
    {
     "data": {
      "text/html": [
       "<div>\n",
       "<style scoped>\n",
       "    .dataframe tbody tr th:only-of-type {\n",
       "        vertical-align: middle;\n",
       "    }\n",
       "\n",
       "    .dataframe tbody tr th {\n",
       "        vertical-align: top;\n",
       "    }\n",
       "\n",
       "    .dataframe thead th {\n",
       "        text-align: right;\n",
       "    }\n",
       "</style>\n",
       "<table border=\"1\" class=\"dataframe\">\n",
       "  <thead>\n",
       "    <tr style=\"text-align: right;\">\n",
       "      <th></th>\n",
       "      <th>yr</th>\n",
       "      <th>cyl</th>\n",
       "      <th>2wh</th>\n",
       "      <th>auto</th>\n",
       "      <th>p/s</th>\n",
       "      <th>a/c</th>\n",
       "      <th>fro</th>\n",
       "      <th>wght</th>\n",
       "      <th>disp</th>\n",
       "      <th>hp</th>\n",
       "      <th>...</th>\n",
       "      <th>reli</th>\n",
       "      <th>dom</th>\n",
       "      <th>eur</th>\n",
       "      <th>sales</th>\n",
       "      <th>price</th>\n",
       "      <th>markup</th>\n",
       "      <th>origin_Europe</th>\n",
       "      <th>origin_Asian</th>\n",
       "      <th>origin_U.S.</th>\n",
       "      <th>mpg</th>\n",
       "    </tr>\n",
       "  </thead>\n",
       "  <tbody>\n",
       "    <tr>\n",
       "      <th>0</th>\n",
       "      <td>75</td>\n",
       "      <td>4</td>\n",
       "      <td>2</td>\n",
       "      <td>0</td>\n",
       "      <td>0</td>\n",
       "      <td>0</td>\n",
       "      <td>0</td>\n",
       "      <td>2469</td>\n",
       "      <td>133.6</td>\n",
       "      <td>96</td>\n",
       "      <td>...</td>\n",
       "      <td>5</td>\n",
       "      <td>0</td>\n",
       "      <td>0</td>\n",
       "      <td>64922</td>\n",
       "      <td>3694</td>\n",
       "      <td>2.2030</td>\n",
       "      <td>0</td>\n",
       "      <td>1</td>\n",
       "      <td>0</td>\n",
       "      <td>18</td>\n",
       "    </tr>\n",
       "    <tr>\n",
       "      <th>1</th>\n",
       "      <td>75</td>\n",
       "      <td>4</td>\n",
       "      <td>4</td>\n",
       "      <td>0</td>\n",
       "      <td>0</td>\n",
       "      <td>0</td>\n",
       "      <td>0</td>\n",
       "      <td>2219</td>\n",
       "      <td>96.9</td>\n",
       "      <td>75</td>\n",
       "      <td>...</td>\n",
       "      <td>5</td>\n",
       "      <td>0</td>\n",
       "      <td>0</td>\n",
       "      <td>151177</td>\n",
       "      <td>3089</td>\n",
       "      <td>1.7734</td>\n",
       "      <td>0</td>\n",
       "      <td>1</td>\n",
       "      <td>0</td>\n",
       "      <td>21</td>\n",
       "    </tr>\n",
       "    <tr>\n",
       "      <th>2</th>\n",
       "      <td>75</td>\n",
       "      <td>4</td>\n",
       "      <td>4</td>\n",
       "      <td>0</td>\n",
       "      <td>0</td>\n",
       "      <td>0</td>\n",
       "      <td>0</td>\n",
       "      <td>1985</td>\n",
       "      <td>85.3</td>\n",
       "      <td>80</td>\n",
       "      <td>...</td>\n",
       "      <td>5</td>\n",
       "      <td>0</td>\n",
       "      <td>0</td>\n",
       "      <td>140039</td>\n",
       "      <td>3089</td>\n",
       "      <td>1.7593</td>\n",
       "      <td>0</td>\n",
       "      <td>1</td>\n",
       "      <td>0</td>\n",
       "      <td>27</td>\n",
       "    </tr>\n",
       "    <tr>\n",
       "      <th>3</th>\n",
       "      <td>75</td>\n",
       "      <td>4</td>\n",
       "      <td>4</td>\n",
       "      <td>0</td>\n",
       "      <td>0</td>\n",
       "      <td>0</td>\n",
       "      <td>0</td>\n",
       "      <td>2399</td>\n",
       "      <td>108.0</td>\n",
       "      <td>93</td>\n",
       "      <td>...</td>\n",
       "      <td>5</td>\n",
       "      <td>0</td>\n",
       "      <td>0</td>\n",
       "      <td>50914</td>\n",
       "      <td>3639</td>\n",
       "      <td>2.1476</td>\n",
       "      <td>0</td>\n",
       "      <td>1</td>\n",
       "      <td>0</td>\n",
       "      <td>22</td>\n",
       "    </tr>\n",
       "    <tr>\n",
       "      <th>4</th>\n",
       "      <td>75</td>\n",
       "      <td>4</td>\n",
       "      <td>4</td>\n",
       "      <td>0</td>\n",
       "      <td>0</td>\n",
       "      <td>0</td>\n",
       "      <td>0</td>\n",
       "      <td>2472</td>\n",
       "      <td>119.1</td>\n",
       "      <td>97</td>\n",
       "      <td>...</td>\n",
       "      <td>4</td>\n",
       "      <td>0</td>\n",
       "      <td>0</td>\n",
       "      <td>18527</td>\n",
       "      <td>4079</td>\n",
       "      <td>2.4706</td>\n",
       "      <td>0</td>\n",
       "      <td>1</td>\n",
       "      <td>0</td>\n",
       "      <td>22</td>\n",
       "    </tr>\n",
       "  </tbody>\n",
       "</table>\n",
       "<p>5 rows × 23 columns</p>\n",
       "</div>"
      ],
      "text/plain": [
       "   yr  cyl  2wh  auto  p/s  a/c  fro  wght   disp  hp  ...  reli  dom  eur  \\\n",
       "0  75    4    2     0    0    0    0  2469  133.6  96  ...     5    0    0   \n",
       "1  75    4    4     0    0    0    0  2219   96.9  75  ...     5    0    0   \n",
       "2  75    4    4     0    0    0    0  1985   85.3  80  ...     5    0    0   \n",
       "3  75    4    4     0    0    0    0  2399  108.0  93  ...     5    0    0   \n",
       "4  75    4    4     0    0    0    0  2472  119.1  97  ...     4    0    0   \n",
       "\n",
       "    sales  price  markup  origin_Europe  origin_Asian  origin_U.S.  mpg  \n",
       "0   64922   3694  2.2030              0             1            0   18  \n",
       "1  151177   3089  1.7734              0             1            0   21  \n",
       "2  140039   3089  1.7593              0             1            0   27  \n",
       "3   50914   3639  2.1476              0             1            0   22  \n",
       "4   18527   4079  2.4706              0             1            0   22  \n",
       "\n",
       "[5 rows x 23 columns]"
      ]
     },
     "execution_count": 16,
     "metadata": {},
     "output_type": "execute_result"
    }
   ],
   "source": [
    "df_training = select_features(df_training, features)\n",
    "df_training.head()"
   ]
  },
  {
   "cell_type": "code",
   "execution_count": 17,
   "id": "c10475bd",
   "metadata": {},
   "outputs": [
    {
     "data": {
      "image/png": "[encoded data removed]",
      "text/plain": [
       "<Figure size 2000x800 with 2 Axes>"
      ]
     },
     "metadata": {},
     "output_type": "display_data"
    }
   ],
   "source": [
    "plt.figure(figsize=(20, 8))\n",
    "heatmap = sns.heatmap(df_training.corr())\n"
   ]
  },
  {
   "cell_type": "markdown",
   "id": "2b9af55d",
   "metadata": {},
   "source": [
    "## Building a RandomForestRegressor\n",
    "\n",
    "Using the sklearn package, we are building a model to predict the mpg of a vehicle based on the features from the dataset."
   ]
  },
  {
   "cell_type": "markdown",
   "id": "0ad45531",
   "metadata": {},
   "source": [
    "## Splitting the Training Set\n",
    "\n",
    "Here we split the training set into a training a testing set. This testing set that \n",
    "we derive from the training set is used to evaluate the accuracy of our model.\n",
    "Then we can apply the model to the actual testing set to evaluate the MAPE."
   ]
  },
  {
   "cell_type": "code",
   "execution_count": 21,
   "id": "b32e6417",
   "metadata": {},
   "outputs": [],
   "source": [
    "x = df_training.loc[:,df_training.columns !='mpg']\n",
    "y = df_training[\"mpg\"]\n",
    "x_train, x_test, y_train, y_test = train_test_split(x,y,test_size=0.33, random_state=42)\n"
   ]
  },
  {
   "cell_type": "code",
   "execution_count": 22,
   "id": "955fd809",
   "metadata": {},
   "outputs": [],
   "source": [
    "# Create the model\n",
    "RF = RandomForestRegressor(n_estimators=100, criterion='absolute_error')"
   ]
  },
  {
   "cell_type": "code",
   "execution_count": 23,
   "id": "b20f2460",
   "metadata": {},
   "outputs": [
    {
     "data": {
      "text/html": [
       "<style>#sk-container-id-1 {color: black;background-color: white;}#sk-container-id-1 pre{padding: 0;}#sk-container-id-1 div.sk-toggleable {background-color: white;}#sk-container-id-1 label.sk-toggleable__label {cursor: pointer;display: block;width: 100%;margin-bottom: 0;padding: 0.3em;box-sizing: border-box;text-align: center;}#sk-container-id-1 label.sk-toggleable__label-arrow:before {content: \"▸\";float: left;margin-right: 0.25em;color: #696969;}#sk-container-id-1 label.sk-toggleable__label-arrow:hover:before {color: black;}#sk-container-id-1 div.sk-estimator:hover label.sk-toggleable__label-arrow:before {color: black;}#sk-container-id-1 div.sk-toggleable__content {max-height: 0;max-width: 0;overflow: hidden;text-align: left;background-color: #f0f8ff;}#sk-container-id-1 div.sk-toggleable__content pre {margin: 0.2em;color: black;border-radius: 0.25em;background-color: #f0f8ff;}#sk-container-id-1 input.sk-toggleable__control:checked~div.sk-toggleable__content {max-height: 200px;max-width: 100%;overflow: auto;}#sk-container-id-1 input.sk-toggleable__control:checked~label.sk-toggleable__label-arrow:before {content: \"▾\";}#sk-container-id-1 div.sk-estimator input.sk-toggleable__control:checked~label.sk-toggleable__label {background-color: #d4ebff;}#sk-container-id-1 div.sk-label input.sk-toggleable__control:checked~label.sk-toggleable__label {background-color: #d4ebff;}#sk-container-id-1 input.sk-hidden--visually {border: 0;clip: rect(1px 1px 1px 1px);clip: rect(1px, 1px, 1px, 1px);height: 1px;margin: -1px;overflow: hidden;padding: 0;position: absolute;width: 1px;}#sk-container-id-1 div.sk-estimator {font-family: monospace;background-color: #f0f8ff;border: 1px dotted black;border-radius: 0.25em;box-sizing: border-box;margin-bottom: 0.5em;}#sk-container-id-1 div.sk-estimator:hover {background-color: #d4ebff;}#sk-container-id-1 div.sk-parallel-item::after {content: \"\";width: 100%;border-bottom: 1px solid gray;flex-grow: 1;}#sk-container-id-1 div.sk-label:hover label.sk-toggleable__label {background-color: #d4ebff;}#sk-container-id-1 div.sk-serial::before {content: \"\";position: absolute;border-left: 1px solid gray;box-sizing: border-box;top: 0;bottom: 0;left: 50%;z-index: 0;}#sk-container-id-1 div.sk-serial {display: flex;flex-direction: column;align-items: center;background-color: white;padding-right: 0.2em;padding-left: 0.2em;position: relative;}#sk-container-id-1 div.sk-item {position: relative;z-index: 1;}#sk-container-id-1 div.sk-parallel {display: flex;align-items: stretch;justify-content: center;background-color: white;position: relative;}#sk-container-id-1 div.sk-item::before, #sk-container-id-1 div.sk-parallel-item::before {content: \"\";position: absolute;border-left: 1px solid gray;box-sizing: border-box;top: 0;bottom: 0;left: 50%;z-index: -1;}#sk-container-id-1 div.sk-parallel-item {display: flex;flex-direction: column;z-index: 1;position: relative;background-color: white;}#sk-container-id-1 div.sk-parallel-item:first-child::after {align-self: flex-end;width: 50%;}#sk-container-id-1 div.sk-parallel-item:last-child::after {align-self: flex-start;width: 50%;}#sk-container-id-1 div.sk-parallel-item:only-child::after {width: 0;}#sk-container-id-1 div.sk-dashed-wrapped {border: 1px dashed gray;margin: 0 0.4em 0.5em 0.4em;box-sizing: border-box;padding-bottom: 0.4em;background-color: white;}#sk-container-id-1 div.sk-label label {font-family: monospace;font-weight: bold;display: inline-block;line-height: 1.2em;}#sk-container-id-1 div.sk-label-container {text-align: center;}#sk-container-id-1 div.sk-container {/* jupyter's `normalize.less` sets `[hidden] { display: none; }` but bootstrap.min.css set `[hidden] { display: none !important; }` so we also need the `!important` here to be able to override the default hidden behavior on the sphinx rendered scikit-learn.org. See: https://github.com/scikit-learn/scikit-learn/issues/21755 */display: inline-block !important;position: relative;}#sk-container-id-1 div.sk-text-repr-fallback {display: none;}</style><div id=\"sk-container-id-1\" class=\"sk-top-container\"><div class=\"sk-text-repr-fallback\"><pre>RandomForestRegressor(criterion=&#x27;absolute_error&#x27;)</pre><b>In a Jupyter environment, please rerun this cell to show the HTML representation or trust the notebook. <br />On GitHub, the HTML representation is unable to render, please try loading this page with nbviewer.org.</b></div><div class=\"sk-container\" hidden><div class=\"sk-item\"><div class=\"sk-estimator sk-toggleable\"><input class=\"sk-toggleable__control sk-hidden--visually\" id=\"sk-estimator-id-1\" type=\"checkbox\" checked><label for=\"sk-estimator-id-1\" class=\"sk-toggleable__label sk-toggleable__label-arrow\">RandomForestRegressor</label><div class=\"sk-toggleable__content\"><pre>RandomForestRegressor(criterion=&#x27;absolute_error&#x27;)</pre></div></div></div></div></div>"
      ],
      "text/plain": [
       "RandomForestRegressor(criterion='absolute_error')"
      ]
     },
     "execution_count": 23,
     "metadata": {},
     "output_type": "execute_result"
    }
   ],
   "source": [
    "# Fit the model\n",
    "RF.fit(x_train,y_train)"
   ]
  },
  {
   "cell_type": "code",
   "execution_count": 24,
   "id": "7817f4e2",
   "metadata": {},
   "outputs": [
    {
     "name": "stdout",
     "output_type": "stream",
     "text": [
      "{'yr': 0.07250575761813421, 'cyl': 0.36442430427719263, '2wh': 0.005945854493365504, 'auto': 0.0023529850118832233, 'p/s': 0.002142636704449828, 'a/c': 0.0012342011479044431, 'fro': 0.00333241874295518, 'wght': 0.1329733497752035, 'disp': 0.12302235667699153, 'hp': 0.05650431383667336, 'lngth': 0.024234483362223502, 'wdth': 0.02169609821256946, 'wb': 0.025966953196377835, 'reli': 0.015099867710675615, 'dom': 0.002226672780652938, 'eur': 0.004019065247268748, 'sales': 0.049319178884682076, 'price': 0.03912821844036091, 'markup': 0.04520702391084083, 'origin_Europe': 0.004262043458093692, 'origin_Asian': 0.0027688520527308367, 'origin_U.S.': 0.0016333644587703182}\n"
     ]
    }
   ],
   "source": [
    "importance = RF.feature_importances_\n",
    "list(importance)\n",
    "plotter = dict(zip(features,importance))\n",
    "# plt.bar(range(len(plotter)), importance, tick_label=features)\n",
    "# plt.show()\n",
    "\n",
    "# feature importances\n",
    "print(plotter)"
   ]
  },
  {
   "cell_type": "code",
   "execution_count": 25,
   "id": "09b21b3e",
   "metadata": {},
   "outputs": [],
   "source": [
    "# Make predicitons\n",
    "y_prediction=RF.predict(x_test)"
   ]
  },
  {
   "cell_type": "markdown",
   "id": "6c858920",
   "metadata": {},
   "source": [
    "## To Evaluate the Model\n",
    "\n",
    "Prior to running the model on the actual testing set, let's evaluate the \n",
    "accuracy of the model using MAPE as the metric. First, we will zip the y_test and the y_prediction into a 2-D array."
   ]
  },
  {
   "cell_type": "code",
   "execution_count": 26,
   "id": "eac908b3",
   "metadata": {},
   "outputs": [],
   "source": [
    "ys = np.dstack((y_test,y_prediction))"
   ]
  },
  {
   "cell_type": "code",
   "execution_count": 27,
   "id": "26532bdb",
   "metadata": {},
   "outputs": [],
   "source": [
    "def mape(y_train, y_prediction):\n",
    "    mape = np.mean(np.abs((y_test - y_prediction)/y_test)) * 100\n",
    "    return mape"
   ]
  },
  {
   "cell_type": "code",
   "execution_count": 28,
   "id": "4d2a19fc",
   "metadata": {},
   "outputs": [
    {
     "data": {
      "text/plain": [
       "6.1055688067720935"
      ]
     },
     "execution_count": 28,
     "metadata": {},
     "output_type": "execute_result"
    }
   ],
   "source": [
    "mape(y_train, y_prediction)"
   ]
  },
  {
   "cell_type": "markdown",
   "id": "683865c0",
   "metadata": {},
   "source": [
    "Depending on the exact split the MAPE is between 6-6.1%, calculated using the `def mape()` function above.\n",
    "\n",
    "Perhaps there is a model that minimizes this error further."
   ]
  },
  {
   "cell_type": "markdown",
   "id": "31913612",
   "metadata": {},
   "source": [
    "## Tuning the Model\n",
    "\n",
    "The goal here is to see if I can reduce the MAPE by tuning the model, by using only statistically significant features."
   ]
  },
  {
   "cell_type": "markdown",
   "id": "dee49b4b",
   "metadata": {},
   "source": [
    "## Applying the model to the actual testing set"
   ]
  },
  {
   "cell_type": "code",
   "execution_count": 32,
   "id": "4d5c3352",
   "metadata": {},
   "outputs": [],
   "source": [
    "x = df_training.loc[:,df_training.columns !='mpg'].values\n",
    "test = df_testing.loc[:, df_testing.columns != 'mpg'].values\n",
    "y = target.values"
   ]
  },
  {
   "cell_type": "code",
   "execution_count": 33,
   "id": "91ca658f",
   "metadata": {},
   "outputs": [
    {
     "name": "stderr",
     "output_type": "stream",
     "text": [
      "C:\\Users\\Matthew\\anaconda3\\lib\\site-packages\\sklearn\\base.py:450: UserWarning: X does not have valid feature names, but RandomForestRegressor was fitted with feature names\n",
      "  warnings.warn(\n"
     ]
    }
   ],
   "source": [
    "predictions = RF.predict(test)"
   ]
  },
  {
   "cell_type": "code",
   "execution_count": 34,
   "id": "19f3ddf6",
   "metadata": {},
   "outputs": [],
   "source": [
    "np.savetxt(\"predictions_RF3.csv\", \n",
    "           predictions,\n",
    "           delimiter =\", \", \n",
    "           fmt ='% s')"
   ]
  },
  {
   "cell_type": "code",
   "execution_count": 35,
   "id": "300e9c48",
   "metadata": {},
   "outputs": [
    {
     "data": {
      "text/html": [
       "<div>\n",
       "<style scoped>\n",
       "    .dataframe tbody tr th:only-of-type {\n",
       "        vertical-align: middle;\n",
       "    }\n",
       "\n",
       "    .dataframe tbody tr th {\n",
       "        vertical-align: top;\n",
       "    }\n",
       "\n",
       "    .dataframe thead th {\n",
       "        text-align: right;\n",
       "    }\n",
       "</style>\n",
       "<table border=\"1\" class=\"dataframe\">\n",
       "  <thead>\n",
       "    <tr style=\"text-align: right;\">\n",
       "      <th></th>\n",
       "      <th>0</th>\n",
       "    </tr>\n",
       "  </thead>\n",
       "  <tbody>\n",
       "    <tr>\n",
       "      <th>count</th>\n",
       "      <td>300.000000</td>\n",
       "    </tr>\n",
       "    <tr>\n",
       "      <th>mean</th>\n",
       "      <td>21.976100</td>\n",
       "    </tr>\n",
       "    <tr>\n",
       "      <th>std</th>\n",
       "      <td>5.480708</td>\n",
       "    </tr>\n",
       "    <tr>\n",
       "      <th>min</th>\n",
       "      <td>11.550000</td>\n",
       "    </tr>\n",
       "    <tr>\n",
       "      <th>25%</th>\n",
       "      <td>18.027500</td>\n",
       "    </tr>\n",
       "    <tr>\n",
       "      <th>50%</th>\n",
       "      <td>21.340000</td>\n",
       "    </tr>\n",
       "    <tr>\n",
       "      <th>75%</th>\n",
       "      <td>24.977500</td>\n",
       "    </tr>\n",
       "    <tr>\n",
       "      <th>max</th>\n",
       "      <td>43.690000</td>\n",
       "    </tr>\n",
       "  </tbody>\n",
       "</table>\n",
       "</div>"
      ],
      "text/plain": [
       "                0\n",
       "count  300.000000\n",
       "mean    21.976100\n",
       "std      5.480708\n",
       "min     11.550000\n",
       "25%     18.027500\n",
       "50%     21.340000\n",
       "75%     24.977500\n",
       "max     43.690000"
      ]
     },
     "execution_count": 35,
     "metadata": {},
     "output_type": "execute_result"
    }
   ],
   "source": [
    "predictions_df = pd.DataFrame(predictions)\n",
    "predictions_df.describe()"
   ]
  },
  {
   "cell_type": "markdown",
   "id": "f68ec753",
   "metadata": {},
   "source": [
    "The results of these predictions are saved in the file predictions_RF3.csv. "
   ]
  }
 ],
 "metadata": {
  "kernelspec": {
   "display_name": "Python 3 (ipykernel)",
   "language": "python",
   "name": "python3"
  },
  "language_info": {
   "codemirror_mode": {
    "name": "ipython",
    "version": 3
   },
   "file_extension": ".py",
   "mimetype": "text/x-python",
   "name": "python",
   "nbconvert_exporter": "python",
   "pygments_lexer": "ipython3",
   "version": "3.9.12"
  }
 },
 "nbformat": 4,
 "nbformat_minor": 5
}

{
 "cells": [
  {
   "cell_type": "markdown",
   "id": "1f607a2d",
   "metadata": {},
   "source": [
    "# Predicting Cars' MPG"
   ]
  },
  {
   "cell_type": "code",
   "execution_count": 2,
   "id": "409808ad",
   "metadata": {},
   "outputs": [],
   "source": [
    "# imports\n",
    "import pandas as pd\n",
    "import matplotlib.pyplot as plt\n",
    "import seaborn as sns\n",
    "import numpy as np\n",
    "from sklearn import tree\n",
    "from sklearn.ensemble import RandomForestRegressor\n",
    "from sklearn.model_selection import train_test_split\n",
    "from sklearn.ensemble import HistGradientBoostingRegressor\n",
    "from sklearn.model_selection import GridSearchCV\n",
    "from sklearn import metrics\n",
    "from sklearn.inspection import permutation_importance\n",
    "import xlsxwriter\n",
    "\n",
    "\n",
    "# Figures inline and set visualization style\n",
    "%matplotlib inline\n",
    "sns.set()"
   ]
  },
  {
   "cell_type": "markdown",
   "id": "23e785ba",
   "metadata": {},
   "source": [
    "## Importing the data "
   ]
  },
  {
   "cell_type": "code",
   "execution_count": 3,
   "id": "21a0ea0f",
   "metadata": {},
   "outputs": [],
   "source": [
    "df_training = pd.read_excel(\"data.xlsx\", sheet_name=\"1. Training Set of 1500 Cars\")\n",
    "target = df_training.mpg\n",
    "\n",
    "df_testing = pd.read_excel(\"C://Users//Matthew//Documents//Fall_2022//ISDS_7103//df_testing_cleaned.xlsx\")\n",
    "\n",
    "df_predictions = pd.read_excel(\"C://Users//Matthew//Documents//Fall_2022//ISDS_7103//df_testing_cleaned.xlsx\")\n"
   ]
  },
  {
   "cell_type": "markdown",
   "id": "cac3805a",
   "metadata": {},
   "source": [
    "We see that the training set is clean, but the testing set needs some fixing.\n",
    "\n",
    "Also, any binary variables for both sets will be recoded to be 0 or 1, instead of the default."
   ]
  },
  {
   "cell_type": "code",
   "execution_count": 4,
   "id": "cc3c759d",
   "metadata": {},
   "outputs": [
    {
     "name": "stdout",
     "output_type": "stream",
     "text": [
      "<class 'pandas.core.frame.DataFrame'>\n",
      "RangeIndex: 300 entries, 0 to 299\n",
      "Data columns (total 25 columns):\n",
      " #   Column      Non-Null Count  Dtype  \n",
      "---  ------      --------------  -----  \n",
      " 0   Unnamed: 0  300 non-null    int64  \n",
      " 1   id          300 non-null    int64  \n",
      " 2   origin      300 non-null    object \n",
      " 3   maker       300 non-null    object \n",
      " 4   model       300 non-null    object \n",
      " 5   yr          300 non-null    int64  \n",
      " 6   cyl         300 non-null    int64  \n",
      " 7   2wh         300 non-null    int64  \n",
      " 8   auto        300 non-null    int64  \n",
      " 9   p/s         300 non-null    int64  \n",
      " 10  a/c         300 non-null    int64  \n",
      " 11  fro         300 non-null    int64  \n",
      " 12  wght        300 non-null    int64  \n",
      " 13  disp        300 non-null    float64\n",
      " 14  hp          300 non-null    int64  \n",
      " 15  lngth       300 non-null    float64\n",
      " 16  wdth        300 non-null    float64\n",
      " 17  wb          300 non-null    float64\n",
      " 18  reli        300 non-null    int64  \n",
      " 19  dom         300 non-null    int64  \n",
      " 20  eur         300 non-null    int64  \n",
      " 21  sales       300 non-null    int64  \n",
      " 22  price       300 non-null    float64\n",
      " 23  markup      300 non-null    float64\n",
      " 24  mpg         300 non-null    object \n",
      "dtypes: float64(6), int64(15), object(4)\n",
      "memory usage: 58.7+ KB\n"
     ]
    }
   ],
   "source": [
    "df_testing.info()"
   ]
  },
  {
   "cell_type": "code",
   "execution_count": 5,
   "id": "338bfca2",
   "metadata": {},
   "outputs": [
    {
     "data": {
      "text/html": [
       "<div>\n",
       "<style scoped>\n",
       "    .dataframe tbody tr th:only-of-type {\n",
       "        vertical-align: middle;\n",
       "    }\n",
       "\n",
       "    .dataframe tbody tr th {\n",
       "        vertical-align: top;\n",
       "    }\n",
       "\n",
       "    .dataframe thead th {\n",
       "        text-align: right;\n",
       "    }\n",
       "</style>\n",
       "<table border=\"1\" class=\"dataframe\">\n",
       "  <thead>\n",
       "    <tr style=\"text-align: right;\">\n",
       "      <th></th>\n",
       "      <th>id</th>\n",
       "      <th>origin</th>\n",
       "      <th>maker</th>\n",
       "      <th>model</th>\n",
       "      <th>yr</th>\n",
       "      <th>cyl</th>\n",
       "      <th>2wh</th>\n",
       "      <th>auto</th>\n",
       "      <th>p/s</th>\n",
       "      <th>a/c</th>\n",
       "      <th>...</th>\n",
       "      <th>wdth</th>\n",
       "      <th>wb</th>\n",
       "      <th>reli</th>\n",
       "      <th>fid</th>\n",
       "      <th>dom</th>\n",
       "      <th>eur</th>\n",
       "      <th>sales</th>\n",
       "      <th>price</th>\n",
       "      <th>markup</th>\n",
       "      <th>mpg</th>\n",
       "    </tr>\n",
       "  </thead>\n",
       "  <tbody>\n",
       "    <tr>\n",
       "      <th>0</th>\n",
       "      <td>1</td>\n",
       "      <td>Japan</td>\n",
       "      <td>Toyota</td>\n",
       "      <td>TY-CELI</td>\n",
       "      <td>75</td>\n",
       "      <td>4</td>\n",
       "      <td>2</td>\n",
       "      <td>0</td>\n",
       "      <td>0</td>\n",
       "      <td>X</td>\n",
       "      <td>...</td>\n",
       "      <td>64.0</td>\n",
       "      <td>95.3</td>\n",
       "      <td>5</td>\n",
       "      <td>1</td>\n",
       "      <td>no</td>\n",
       "      <td>N</td>\n",
       "      <td>64922</td>\n",
       "      <td>3694</td>\n",
       "      <td>2.2030</td>\n",
       "      <td>18</td>\n",
       "    </tr>\n",
       "    <tr>\n",
       "      <th>1</th>\n",
       "      <td>2</td>\n",
       "      <td>Japan</td>\n",
       "      <td>Toyota</td>\n",
       "      <td>TY-CORO</td>\n",
       "      <td>75</td>\n",
       "      <td>4</td>\n",
       "      <td>4</td>\n",
       "      <td>0</td>\n",
       "      <td>0</td>\n",
       "      <td>X</td>\n",
       "      <td>...</td>\n",
       "      <td>62.0</td>\n",
       "      <td>93.3</td>\n",
       "      <td>5</td>\n",
       "      <td>1</td>\n",
       "      <td>no</td>\n",
       "      <td>N</td>\n",
       "      <td>151177</td>\n",
       "      <td>3089</td>\n",
       "      <td>1.7734</td>\n",
       "      <td>21</td>\n",
       "    </tr>\n",
       "    <tr>\n",
       "      <th>2</th>\n",
       "      <td>3</td>\n",
       "      <td>Japan</td>\n",
       "      <td>Datsun</td>\n",
       "      <td>DT-HLB2</td>\n",
       "      <td>75</td>\n",
       "      <td>4</td>\n",
       "      <td>4</td>\n",
       "      <td>0</td>\n",
       "      <td>0</td>\n",
       "      <td>X</td>\n",
       "      <td>...</td>\n",
       "      <td>61.0</td>\n",
       "      <td>92.1</td>\n",
       "      <td>5</td>\n",
       "      <td>2</td>\n",
       "      <td>no</td>\n",
       "      <td>N</td>\n",
       "      <td>140039</td>\n",
       "      <td>3089</td>\n",
       "      <td>1.7593</td>\n",
       "      <td>27</td>\n",
       "    </tr>\n",
       "    <tr>\n",
       "      <th>3</th>\n",
       "      <td>4</td>\n",
       "      <td>Japan</td>\n",
       "      <td>Datsun</td>\n",
       "      <td>DT-JHL7</td>\n",
       "      <td>75</td>\n",
       "      <td>4</td>\n",
       "      <td>4</td>\n",
       "      <td>0</td>\n",
       "      <td>0</td>\n",
       "      <td>X</td>\n",
       "      <td>...</td>\n",
       "      <td>63.0</td>\n",
       "      <td>96.5</td>\n",
       "      <td>5</td>\n",
       "      <td>2</td>\n",
       "      <td>no</td>\n",
       "      <td>N</td>\n",
       "      <td>50914</td>\n",
       "      <td>3639</td>\n",
       "      <td>2.1476</td>\n",
       "      <td>22</td>\n",
       "    </tr>\n",
       "    <tr>\n",
       "      <th>4</th>\n",
       "      <td>5</td>\n",
       "      <td>Japan</td>\n",
       "      <td>Datsun</td>\n",
       "      <td>DT-HL61</td>\n",
       "      <td>75</td>\n",
       "      <td>4</td>\n",
       "      <td>4</td>\n",
       "      <td>0</td>\n",
       "      <td>0</td>\n",
       "      <td>X</td>\n",
       "      <td>...</td>\n",
       "      <td>63.0</td>\n",
       "      <td>98.4</td>\n",
       "      <td>4</td>\n",
       "      <td>2</td>\n",
       "      <td>no</td>\n",
       "      <td>N</td>\n",
       "      <td>18527</td>\n",
       "      <td>4079</td>\n",
       "      <td>2.4706</td>\n",
       "      <td>22</td>\n",
       "    </tr>\n",
       "  </tbody>\n",
       "</table>\n",
       "<p>5 rows × 25 columns</p>\n",
       "</div>"
      ],
      "text/plain": [
       "   id origin   maker    model  yr  cyl  2wh  auto  p/s a/c  ...  wdth    wb  \\\n",
       "0   1  Japan  Toyota  TY-CELI  75    4    2     0    0   X  ...  64.0  95.3   \n",
       "1   2  Japan  Toyota  TY-CORO  75    4    4     0    0   X  ...  62.0  93.3   \n",
       "2   3  Japan  Datsun  DT-HLB2  75    4    4     0    0   X  ...  61.0  92.1   \n",
       "3   4  Japan  Datsun  DT-JHL7  75    4    4     0    0   X  ...  63.0  96.5   \n",
       "4   5  Japan  Datsun  DT-HL61  75    4    4     0    0   X  ...  63.0  98.4   \n",
       "\n",
       "   reli  fid  dom  eur   sales  price  markup mpg  \n",
       "0     5    1   no    N   64922   3694  2.2030  18  \n",
       "1     5    1   no    N  151177   3089  1.7734  21  \n",
       "2     5    2   no    N  140039   3089  1.7593  27  \n",
       "3     5    2   no    N   50914   3639  2.1476  22  \n",
       "4     4    2   no    N   18527   4079  2.4706  22  \n",
       "\n",
       "[5 rows x 25 columns]"
      ]
     },
     "execution_count": 5,
     "metadata": {},
     "output_type": "execute_result"
    }
   ],
   "source": [
    "df_training.head()"
   ]
  },
  {
   "cell_type": "code",
   "execution_count": 6,
   "id": "25c3edf5",
   "metadata": {},
   "outputs": [],
   "source": [
    "def ac():\n",
    "    ac_list = []\n",
    "    for i in df_training[\"a/c\"]:\n",
    "        if i == \"X\":\n",
    "            ac_list.append(0)\n",
    "        elif i == \"O\":\n",
    "            ac_list.append(1)\n",
    "\n",
    "    return ac_list\n",
    "\n",
    "df_training[\"a/c\"] = ac()        "
   ]
  },
  {
   "cell_type": "markdown",
   "id": "df62772a",
   "metadata": {},
   "source": [
    "Now that A/C column is recoded to 0s and 1s, let's do the same for the columns, dom (domestic), eur (european). "
   ]
  },
  {
   "cell_type": "code",
   "execution_count": 7,
   "id": "e6416c3c",
   "metadata": {},
   "outputs": [],
   "source": [
    "def dom():\n",
    "    dom_list = []\n",
    "    for i in df_training[\"dom\"]:\n",
    "        if i == \"yes\":\n",
    "            dom_list.append(1)\n",
    "        elif i == \"no\":\n",
    "            dom_list.append(0)\n",
    "\n",
    "    return dom_list\n",
    "\n",
    "df_training[\"dom\"] = dom()"
   ]
  },
  {
   "cell_type": "code",
   "execution_count": 8,
   "id": "a60576be",
   "metadata": {},
   "outputs": [],
   "source": [
    "def eur():\n",
    "    eur_list = []\n",
    "    for i in df_training[\"eur\"]:\n",
    "        if i == \"Y\":\n",
    "            eur_list.append(1)\n",
    "        elif i == \"N\":\n",
    "            eur_list.append(0)\n",
    "\n",
    "    return eur_list\n",
    "\n",
    "df_training[\"eur\"] = eur()\n"
   ]
  },
  {
   "cell_type": "markdown",
   "id": "3119e57f",
   "metadata": {},
   "source": [
    "Now all recodings are done for the training set"
   ]
  },
  {
   "cell_type": "markdown",
   "id": "8036d475",
   "metadata": {},
   "source": [
    "The testing set requires some data cleaning for several of the columns; for the most part, I cleaned it already in Excel. Here I import the cleaned and recoded version of the dataset; however the process can be done just as easy in Python."
   ]
  },
  {
   "cell_type": "code",
   "execution_count": 9,
   "id": "03d23130",
   "metadata": {},
   "outputs": [],
   "source": [
    "# df_testing = pd.read_excel(\"testing_set_cleaned.xlsx\")\n"
   ]
  },
  {
   "cell_type": "markdown",
   "id": "4963ae29",
   "metadata": {},
   "source": [
    "## Dummy Variables for the Training Set"
   ]
  },
  {
   "cell_type": "markdown",
   "id": "534a3ca9",
   "metadata": {},
   "source": [
    "For the origin of the car manufacturer, we can recode this such that they are dummy variables. Using the get_dummies() method from pandas, four dummy variables are created (though we technically only need n-1 dummies). From the results in the cell below, we see that there are 866 American cars, 351 European, 276 Japanese, and 7 Korean. However, since there are no Korean cars in the testing set, let's recode Korean and Japanese cars as Asian."
   ]
  },
  {
   "cell_type": "code",
   "execution_count": 10,
   "id": "a8ebe0e4",
   "metadata": {
    "scrolled": false
   },
   "outputs": [
    {
     "data": {
      "text/plain": [
       "Europe  Japan  Korean  U.S.\n",
       "0       0      0       1       866\n",
       "1       0      0       0       351\n",
       "0       1      0       0       276\n",
       "        0      1       0         7\n",
       "dtype: int64"
      ]
     },
     "execution_count": 10,
     "metadata": {},
     "output_type": "execute_result"
    }
   ],
   "source": [
    "pd.get_dummies(df_training[\"origin\"]).value_counts()\n"
   ]
  },
  {
   "cell_type": "markdown",
   "id": "ce485a3e",
   "metadata": {},
   "source": [
    "Here we change the name of the values in the origin column from Japan to Asian, then put Korean cars in same category as Japanese for the training set. Keep in mind that the testing set does not have any Korean cars.\n"
   ]
  },
  {
   "cell_type": "code",
   "execution_count": 11,
   "id": "5b2f8795",
   "metadata": {},
   "outputs": [
    {
     "data": {
      "text/plain": [
       "U.S.      866\n",
       "Europe    351\n",
       "Asian     283\n",
       "Name: origin, dtype: int64"
      ]
     },
     "execution_count": 11,
     "metadata": {},
     "output_type": "execute_result"
    }
   ],
   "source": [
    "df_training['origin'] = df_training['origin'].replace({'Japan':'Asian'})\n",
    "df_training['origin'] = df_training['origin'].replace({'Korean':'Asian'})\n",
    "df_training['origin'].value_counts()"
   ]
  },
  {
   "cell_type": "code",
   "execution_count": 12,
   "id": "f5cba3d1",
   "metadata": {},
   "outputs": [
    {
     "data": {
      "text/plain": [
       "Asian  Europe  U.S.\n",
       "0      0       1       866\n",
       "       1       0       351\n",
       "1      0       0       283\n",
       "dtype: int64"
      ]
     },
     "execution_count": 12,
     "metadata": {},
     "output_type": "execute_result"
    }
   ],
   "source": [
    "pd.get_dummies(df_training[\"origin\"]).value_counts()"
   ]
  },
  {
   "cell_type": "markdown",
   "id": "e6ad211d",
   "metadata": {},
   "source": [
    "Next, we insert the dummy variables into the data frame (4 are created, though, since we used the drop_first = False argument)."
   ]
  },
  {
   "cell_type": "code",
   "execution_count": 13,
   "id": "186c7e66",
   "metadata": {},
   "outputs": [
    {
     "data": {
      "text/html": [
       "<div>\n",
       "<style scoped>\n",
       "    .dataframe tbody tr th:only-of-type {\n",
       "        vertical-align: middle;\n",
       "    }\n",
       "\n",
       "    .dataframe tbody tr th {\n",
       "        vertical-align: top;\n",
       "    }\n",
       "\n",
       "    .dataframe thead th {\n",
       "        text-align: right;\n",
       "    }\n",
       "</style>\n",
       "<table border=\"1\" class=\"dataframe\">\n",
       "  <thead>\n",
       "    <tr style=\"text-align: right;\">\n",
       "      <th></th>\n",
       "      <th>id</th>\n",
       "      <th>maker</th>\n",
       "      <th>model</th>\n",
       "      <th>yr</th>\n",
       "      <th>cyl</th>\n",
       "      <th>2wh</th>\n",
       "      <th>auto</th>\n",
       "      <th>p/s</th>\n",
       "      <th>a/c</th>\n",
       "      <th>fro</th>\n",
       "      <th>...</th>\n",
       "      <th>fid</th>\n",
       "      <th>dom</th>\n",
       "      <th>eur</th>\n",
       "      <th>sales</th>\n",
       "      <th>price</th>\n",
       "      <th>markup</th>\n",
       "      <th>mpg</th>\n",
       "      <th>origin_Asian</th>\n",
       "      <th>origin_Europe</th>\n",
       "      <th>origin_U.S.</th>\n",
       "    </tr>\n",
       "  </thead>\n",
       "  <tbody>\n",
       "    <tr>\n",
       "      <th>0</th>\n",
       "      <td>1</td>\n",
       "      <td>Toyota</td>\n",
       "      <td>TY-CELI</td>\n",
       "      <td>75</td>\n",
       "      <td>4</td>\n",
       "      <td>2</td>\n",
       "      <td>0</td>\n",
       "      <td>0</td>\n",
       "      <td>0</td>\n",
       "      <td>0</td>\n",
       "      <td>...</td>\n",
       "      <td>1</td>\n",
       "      <td>0</td>\n",
       "      <td>0</td>\n",
       "      <td>64922</td>\n",
       "      <td>3694</td>\n",
       "      <td>2.2030</td>\n",
       "      <td>18</td>\n",
       "      <td>1</td>\n",
       "      <td>0</td>\n",
       "      <td>0</td>\n",
       "    </tr>\n",
       "    <tr>\n",
       "      <th>1</th>\n",
       "      <td>2</td>\n",
       "      <td>Toyota</td>\n",
       "      <td>TY-CORO</td>\n",
       "      <td>75</td>\n",
       "      <td>4</td>\n",
       "      <td>4</td>\n",
       "      <td>0</td>\n",
       "      <td>0</td>\n",
       "      <td>0</td>\n",
       "      <td>0</td>\n",
       "      <td>...</td>\n",
       "      <td>1</td>\n",
       "      <td>0</td>\n",
       "      <td>0</td>\n",
       "      <td>151177</td>\n",
       "      <td>3089</td>\n",
       "      <td>1.7734</td>\n",
       "      <td>21</td>\n",
       "      <td>1</td>\n",
       "      <td>0</td>\n",
       "      <td>0</td>\n",
       "    </tr>\n",
       "    <tr>\n",
       "      <th>2</th>\n",
       "      <td>3</td>\n",
       "      <td>Datsun</td>\n",
       "      <td>DT-HLB2</td>\n",
       "      <td>75</td>\n",
       "      <td>4</td>\n",
       "      <td>4</td>\n",
       "      <td>0</td>\n",
       "      <td>0</td>\n",
       "      <td>0</td>\n",
       "      <td>0</td>\n",
       "      <td>...</td>\n",
       "      <td>2</td>\n",
       "      <td>0</td>\n",
       "      <td>0</td>\n",
       "      <td>140039</td>\n",
       "      <td>3089</td>\n",
       "      <td>1.7593</td>\n",
       "      <td>27</td>\n",
       "      <td>1</td>\n",
       "      <td>0</td>\n",
       "      <td>0</td>\n",
       "    </tr>\n",
       "    <tr>\n",
       "      <th>3</th>\n",
       "      <td>4</td>\n",
       "      <td>Datsun</td>\n",
       "      <td>DT-JHL7</td>\n",
       "      <td>75</td>\n",
       "      <td>4</td>\n",
       "      <td>4</td>\n",
       "      <td>0</td>\n",
       "      <td>0</td>\n",
       "      <td>0</td>\n",
       "      <td>0</td>\n",
       "      <td>...</td>\n",
       "      <td>2</td>\n",
       "      <td>0</td>\n",
       "      <td>0</td>\n",
       "      <td>50914</td>\n",
       "      <td>3639</td>\n",
       "      <td>2.1476</td>\n",
       "      <td>22</td>\n",
       "      <td>1</td>\n",
       "      <td>0</td>\n",
       "      <td>0</td>\n",
       "    </tr>\n",
       "    <tr>\n",
       "      <th>4</th>\n",
       "      <td>5</td>\n",
       "      <td>Datsun</td>\n",
       "      <td>DT-HL61</td>\n",
       "      <td>75</td>\n",
       "      <td>4</td>\n",
       "      <td>4</td>\n",
       "      <td>0</td>\n",
       "      <td>0</td>\n",
       "      <td>0</td>\n",
       "      <td>0</td>\n",
       "      <td>...</td>\n",
       "      <td>2</td>\n",
       "      <td>0</td>\n",
       "      <td>0</td>\n",
       "      <td>18527</td>\n",
       "      <td>4079</td>\n",
       "      <td>2.4706</td>\n",
       "      <td>22</td>\n",
       "      <td>1</td>\n",
       "      <td>0</td>\n",
       "      <td>0</td>\n",
       "    </tr>\n",
       "  </tbody>\n",
       "</table>\n",
       "<p>5 rows × 27 columns</p>\n",
       "</div>"
      ],
      "text/plain": [
       "   id   maker    model  yr  cyl  2wh  auto  p/s  a/c  fro  ...  fid  dom  eur  \\\n",
       "0   1  Toyota  TY-CELI  75    4    2     0    0    0    0  ...    1    0    0   \n",
       "1   2  Toyota  TY-CORO  75    4    4     0    0    0    0  ...    1    0    0   \n",
       "2   3  Datsun  DT-HLB2  75    4    4     0    0    0    0  ...    2    0    0   \n",
       "3   4  Datsun  DT-JHL7  75    4    4     0    0    0    0  ...    2    0    0   \n",
       "4   5  Datsun  DT-HL61  75    4    4     0    0    0    0  ...    2    0    0   \n",
       "\n",
       "    sales  price  markup  mpg  origin_Asian  origin_Europe  origin_U.S.  \n",
       "0   64922   3694  2.2030   18             1              0            0  \n",
       "1  151177   3089  1.7734   21             1              0            0  \n",
       "2  140039   3089  1.7593   27             1              0            0  \n",
       "3   50914   3639  2.1476   22             1              0            0  \n",
       "4   18527   4079  2.4706   22             1              0            0  \n",
       "\n",
       "[5 rows x 27 columns]"
      ]
     },
     "execution_count": 13,
     "metadata": {},
     "output_type": "execute_result"
    }
   ],
   "source": [
    "def dummy_var_origin(df_training):\n",
    "\n",
    "    df_training = pd.get_dummies(df_training, columns=['origin'], drop_first=False)\n",
    "    return df_training   \n",
    "\n",
    "df_training = dummy_var_origin(df_training)\n",
    "df_training.head()"
   ]
  },
  {
   "cell_type": "markdown",
   "id": "efa68d37",
   "metadata": {},
   "source": [
    "Should we do the same process for the make of the car, or are there too many? For now, let's not consider the make or model of the car as features."
   ]
  },
  {
   "cell_type": "code",
   "execution_count": 14,
   "id": "fb75b94e",
   "metadata": {},
   "outputs": [],
   "source": [
    "# pd.get_dummies(df_training[\"maker\"]).value_counts().plot(kind='bar')\n"
   ]
  },
  {
   "cell_type": "markdown",
   "id": "25461e79",
   "metadata": {},
   "source": [
    "## Adding dummy variables into the testing set"
   ]
  },
  {
   "cell_type": "code",
   "execution_count": 15,
   "id": "300eef1c",
   "metadata": {},
   "outputs": [
    {
     "data": {
      "text/plain": [
       "Asia  Europe  US\n",
       "0     0       1     187\n",
       "      1       0      57\n",
       "1     0       0      56\n",
       "dtype: int64"
      ]
     },
     "execution_count": 15,
     "metadata": {},
     "output_type": "execute_result"
    }
   ],
   "source": [
    "df_testing['origin'] = df_testing['origin'].replace({'Japan':'Asian'})\n",
    "pd.get_dummies(df_testing[\"origin\"]).value_counts()\n",
    "\n"
   ]
  },
  {
   "cell_type": "code",
   "execution_count": 16,
   "id": "481d0182",
   "metadata": {},
   "outputs": [
    {
     "data": {
      "text/html": [
       "<div>\n",
       "<style scoped>\n",
       "    .dataframe tbody tr th:only-of-type {\n",
       "        vertical-align: middle;\n",
       "    }\n",
       "\n",
       "    .dataframe tbody tr th {\n",
       "        vertical-align: top;\n",
       "    }\n",
       "\n",
       "    .dataframe thead th {\n",
       "        text-align: right;\n",
       "    }\n",
       "</style>\n",
       "<table border=\"1\" class=\"dataframe\">\n",
       "  <thead>\n",
       "    <tr style=\"text-align: right;\">\n",
       "      <th></th>\n",
       "      <th>Unnamed: 0</th>\n",
       "      <th>id</th>\n",
       "      <th>maker</th>\n",
       "      <th>model</th>\n",
       "      <th>yr</th>\n",
       "      <th>cyl</th>\n",
       "      <th>2wh</th>\n",
       "      <th>auto</th>\n",
       "      <th>p/s</th>\n",
       "      <th>a/c</th>\n",
       "      <th>...</th>\n",
       "      <th>reli</th>\n",
       "      <th>dom</th>\n",
       "      <th>eur</th>\n",
       "      <th>sales</th>\n",
       "      <th>price</th>\n",
       "      <th>markup</th>\n",
       "      <th>mpg</th>\n",
       "      <th>origin_Asia</th>\n",
       "      <th>origin_Europe</th>\n",
       "      <th>origin_US</th>\n",
       "    </tr>\n",
       "  </thead>\n",
       "  <tbody>\n",
       "    <tr>\n",
       "      <th>0</th>\n",
       "      <td>0</td>\n",
       "      <td>1501</td>\n",
       "      <td>Volkswagen</td>\n",
       "      <td>VW-RABB</td>\n",
       "      <td>75</td>\n",
       "      <td>4</td>\n",
       "      <td>5</td>\n",
       "      <td>0</td>\n",
       "      <td>0</td>\n",
       "      <td>0</td>\n",
       "      <td>...</td>\n",
       "      <td>2</td>\n",
       "      <td>0</td>\n",
       "      <td>1</td>\n",
       "      <td>98215</td>\n",
       "      <td>3470.0</td>\n",
       "      <td>2.1005</td>\n",
       "      <td>?</td>\n",
       "      <td>0</td>\n",
       "      <td>1</td>\n",
       "      <td>0</td>\n",
       "    </tr>\n",
       "    <tr>\n",
       "      <th>1</th>\n",
       "      <td>1</td>\n",
       "      <td>1502</td>\n",
       "      <td>Mercedes-Benz</td>\n",
       "      <td>MB-280</td>\n",
       "      <td>75</td>\n",
       "      <td>6</td>\n",
       "      <td>4</td>\n",
       "      <td>1</td>\n",
       "      <td>1</td>\n",
       "      <td>1</td>\n",
       "      <td>...</td>\n",
       "      <td>4</td>\n",
       "      <td>0</td>\n",
       "      <td>1</td>\n",
       "      <td>9218</td>\n",
       "      <td>12756.0</td>\n",
       "      <td>8.9180</td>\n",
       "      <td>?</td>\n",
       "      <td>0</td>\n",
       "      <td>1</td>\n",
       "      <td>0</td>\n",
       "    </tr>\n",
       "    <tr>\n",
       "      <th>2</th>\n",
       "      <td>2</td>\n",
       "      <td>1503</td>\n",
       "      <td>AMC</td>\n",
       "      <td>AM-GREM</td>\n",
       "      <td>75</td>\n",
       "      <td>6</td>\n",
       "      <td>2</td>\n",
       "      <td>0</td>\n",
       "      <td>0</td>\n",
       "      <td>0</td>\n",
       "      <td>...</td>\n",
       "      <td>3</td>\n",
       "      <td>1</td>\n",
       "      <td>0</td>\n",
       "      <td>66614</td>\n",
       "      <td>2798.0</td>\n",
       "      <td>1.4212</td>\n",
       "      <td>?</td>\n",
       "      <td>0</td>\n",
       "      <td>0</td>\n",
       "      <td>1</td>\n",
       "    </tr>\n",
       "    <tr>\n",
       "      <th>3</th>\n",
       "      <td>3</td>\n",
       "      <td>1504</td>\n",
       "      <td>AMC</td>\n",
       "      <td>AM-PACE</td>\n",
       "      <td>75</td>\n",
       "      <td>6</td>\n",
       "      <td>2</td>\n",
       "      <td>0</td>\n",
       "      <td>0</td>\n",
       "      <td>0</td>\n",
       "      <td>...</td>\n",
       "      <td>1</td>\n",
       "      <td>1</td>\n",
       "      <td>0</td>\n",
       "      <td>96769</td>\n",
       "      <td>3299.0</td>\n",
       "      <td>1.6917</td>\n",
       "      <td>?</td>\n",
       "      <td>0</td>\n",
       "      <td>0</td>\n",
       "      <td>1</td>\n",
       "    </tr>\n",
       "    <tr>\n",
       "      <th>4</th>\n",
       "      <td>4</td>\n",
       "      <td>1505</td>\n",
       "      <td>Chrysler</td>\n",
       "      <td>PL-DUST</td>\n",
       "      <td>75</td>\n",
       "      <td>6</td>\n",
       "      <td>2</td>\n",
       "      <td>0</td>\n",
       "      <td>0</td>\n",
       "      <td>0</td>\n",
       "      <td>...</td>\n",
       "      <td>2</td>\n",
       "      <td>1</td>\n",
       "      <td>0</td>\n",
       "      <td>62909</td>\n",
       "      <td>3243.0</td>\n",
       "      <td>1.7583</td>\n",
       "      <td>?</td>\n",
       "      <td>0</td>\n",
       "      <td>0</td>\n",
       "      <td>1</td>\n",
       "    </tr>\n",
       "  </tbody>\n",
       "</table>\n",
       "<p>5 rows × 27 columns</p>\n",
       "</div>"
      ],
      "text/plain": [
       "   Unnamed: 0    id          maker    model  yr  cyl  2wh  auto  p/s  a/c  \\\n",
       "0           0  1501     Volkswagen  VW-RABB  75    4    5     0    0    0   \n",
       "1           1  1502  Mercedes-Benz   MB-280  75    6    4     1    1    1   \n",
       "2           2  1503            AMC  AM-GREM  75    6    2     0    0    0   \n",
       "3           3  1504            AMC  AM-PACE  75    6    2     0    0    0   \n",
       "4           4  1505       Chrysler  PL-DUST  75    6    2     0    0    0   \n",
       "\n",
       "   ...  reli  dom  eur  sales    price  markup  mpg  origin_Asia  \\\n",
       "0  ...     2    0    1  98215   3470.0  2.1005    ?            0   \n",
       "1  ...     4    0    1   9218  12756.0  8.9180    ?            0   \n",
       "2  ...     3    1    0  66614   2798.0  1.4212    ?            0   \n",
       "3  ...     1    1    0  96769   3299.0  1.6917    ?            0   \n",
       "4  ...     2    1    0  62909   3243.0  1.7583    ?            0   \n",
       "\n",
       "   origin_Europe  origin_US  \n",
       "0              1          0  \n",
       "1              1          0  \n",
       "2              0          1  \n",
       "3              0          1  \n",
       "4              0          1  \n",
       "\n",
       "[5 rows x 27 columns]"
      ]
     },
     "execution_count": 16,
     "metadata": {},
     "output_type": "execute_result"
    }
   ],
   "source": [
    "def dummy_var_origin2(df_testing):\n",
    "    df_testing = pd.get_dummies(df_testing, columns=['origin'], drop_first=False)\n",
    "    return df_testing   \n",
    "\n",
    "df_testing = dummy_var_origin2(df_testing)\n",
    "df_testing.head()"
   ]
  },
  {
   "cell_type": "markdown",
   "id": "f43fae85",
   "metadata": {},
   "source": [
    "## Feature Selection\n",
    "\n",
    "Here we are experimenting with the best features for the ML model."
   ]
  },
  {
   "cell_type": "code",
   "execution_count": 17,
   "id": "e97425b6",
   "metadata": {},
   "outputs": [],
   "source": [
    "features = ['yr','cyl','2wh','auto','p/s','a/c','fro','wght','disp','hp',\n",
    "           'lngth','wdth','wb','reli','dom','eur','sales','markup',\n",
    "            'origin_Europe','origin_Asian','origin_U.S.','mpg']\n",
    "def select_features(df_training, features):\n",
    "    df_training = df_training[features]\n",
    "    return df_training"
   ]
  },
  {
   "cell_type": "code",
   "execution_count": 18,
   "id": "ed5512df",
   "metadata": {},
   "outputs": [],
   "source": [
    "# features2 = ['yr','cyl','2wh','auto','p/s','a/c','fro','wght','disp','hp',\n",
    "#            'lngth','wdth','wb','reli','dom','eur','sales','markup',\n",
    "#             'origin_Europe','origin_Asian','origin_U.S.']\n",
    "# df_testing = df_testing[features2]"
   ]
  },
  {
   "cell_type": "code",
   "execution_count": 19,
   "id": "c03ef1d3",
   "metadata": {},
   "outputs": [
    {
     "data": {
      "text/html": [
       "<div>\n",
       "<style scoped>\n",
       "    .dataframe tbody tr th:only-of-type {\n",
       "        vertical-align: middle;\n",
       "    }\n",
       "\n",
       "    .dataframe tbody tr th {\n",
       "        vertical-align: top;\n",
       "    }\n",
       "\n",
       "    .dataframe thead th {\n",
       "        text-align: right;\n",
       "    }\n",
       "</style>\n",
       "<table border=\"1\" class=\"dataframe\">\n",
       "  <thead>\n",
       "    <tr style=\"text-align: right;\">\n",
       "      <th></th>\n",
       "      <th>yr</th>\n",
       "      <th>cyl</th>\n",
       "      <th>2wh</th>\n",
       "      <th>auto</th>\n",
       "      <th>p/s</th>\n",
       "      <th>a/c</th>\n",
       "      <th>fro</th>\n",
       "      <th>wght</th>\n",
       "      <th>disp</th>\n",
       "      <th>hp</th>\n",
       "      <th>...</th>\n",
       "      <th>wb</th>\n",
       "      <th>reli</th>\n",
       "      <th>dom</th>\n",
       "      <th>eur</th>\n",
       "      <th>sales</th>\n",
       "      <th>markup</th>\n",
       "      <th>origin_Europe</th>\n",
       "      <th>origin_Asian</th>\n",
       "      <th>origin_U.S.</th>\n",
       "      <th>mpg</th>\n",
       "    </tr>\n",
       "  </thead>\n",
       "  <tbody>\n",
       "    <tr>\n",
       "      <th>0</th>\n",
       "      <td>75</td>\n",
       "      <td>4</td>\n",
       "      <td>2</td>\n",
       "      <td>0</td>\n",
       "      <td>0</td>\n",
       "      <td>0</td>\n",
       "      <td>0</td>\n",
       "      <td>2469</td>\n",
       "      <td>133.6</td>\n",
       "      <td>96</td>\n",
       "      <td>...</td>\n",
       "      <td>95.3</td>\n",
       "      <td>5</td>\n",
       "      <td>0</td>\n",
       "      <td>0</td>\n",
       "      <td>64922</td>\n",
       "      <td>2.2030</td>\n",
       "      <td>0</td>\n",
       "      <td>1</td>\n",
       "      <td>0</td>\n",
       "      <td>18</td>\n",
       "    </tr>\n",
       "    <tr>\n",
       "      <th>1</th>\n",
       "      <td>75</td>\n",
       "      <td>4</td>\n",
       "      <td>4</td>\n",
       "      <td>0</td>\n",
       "      <td>0</td>\n",
       "      <td>0</td>\n",
       "      <td>0</td>\n",
       "      <td>2219</td>\n",
       "      <td>96.9</td>\n",
       "      <td>75</td>\n",
       "      <td>...</td>\n",
       "      <td>93.3</td>\n",
       "      <td>5</td>\n",
       "      <td>0</td>\n",
       "      <td>0</td>\n",
       "      <td>151177</td>\n",
       "      <td>1.7734</td>\n",
       "      <td>0</td>\n",
       "      <td>1</td>\n",
       "      <td>0</td>\n",
       "      <td>21</td>\n",
       "    </tr>\n",
       "    <tr>\n",
       "      <th>2</th>\n",
       "      <td>75</td>\n",
       "      <td>4</td>\n",
       "      <td>4</td>\n",
       "      <td>0</td>\n",
       "      <td>0</td>\n",
       "      <td>0</td>\n",
       "      <td>0</td>\n",
       "      <td>1985</td>\n",
       "      <td>85.3</td>\n",
       "      <td>80</td>\n",
       "      <td>...</td>\n",
       "      <td>92.1</td>\n",
       "      <td>5</td>\n",
       "      <td>0</td>\n",
       "      <td>0</td>\n",
       "      <td>140039</td>\n",
       "      <td>1.7593</td>\n",
       "      <td>0</td>\n",
       "      <td>1</td>\n",
       "      <td>0</td>\n",
       "      <td>27</td>\n",
       "    </tr>\n",
       "    <tr>\n",
       "      <th>3</th>\n",
       "      <td>75</td>\n",
       "      <td>4</td>\n",
       "      <td>4</td>\n",
       "      <td>0</td>\n",
       "      <td>0</td>\n",
       "      <td>0</td>\n",
       "      <td>0</td>\n",
       "      <td>2399</td>\n",
       "      <td>108.0</td>\n",
       "      <td>93</td>\n",
       "      <td>...</td>\n",
       "      <td>96.5</td>\n",
       "      <td>5</td>\n",
       "      <td>0</td>\n",
       "      <td>0</td>\n",
       "      <td>50914</td>\n",
       "      <td>2.1476</td>\n",
       "      <td>0</td>\n",
       "      <td>1</td>\n",
       "      <td>0</td>\n",
       "      <td>22</td>\n",
       "    </tr>\n",
       "    <tr>\n",
       "      <th>4</th>\n",
       "      <td>75</td>\n",
       "      <td>4</td>\n",
       "      <td>4</td>\n",
       "      <td>0</td>\n",
       "      <td>0</td>\n",
       "      <td>0</td>\n",
       "      <td>0</td>\n",
       "      <td>2472</td>\n",
       "      <td>119.1</td>\n",
       "      <td>97</td>\n",
       "      <td>...</td>\n",
       "      <td>98.4</td>\n",
       "      <td>4</td>\n",
       "      <td>0</td>\n",
       "      <td>0</td>\n",
       "      <td>18527</td>\n",
       "      <td>2.4706</td>\n",
       "      <td>0</td>\n",
       "      <td>1</td>\n",
       "      <td>0</td>\n",
       "      <td>22</td>\n",
       "    </tr>\n",
       "  </tbody>\n",
       "</table>\n",
       "<p>5 rows × 22 columns</p>\n",
       "</div>"
      ],
      "text/plain": [
       "   yr  cyl  2wh  auto  p/s  a/c  fro  wght   disp  hp  ...    wb  reli  dom  \\\n",
       "0  75    4    2     0    0    0    0  2469  133.6  96  ...  95.3     5    0   \n",
       "1  75    4    4     0    0    0    0  2219   96.9  75  ...  93.3     5    0   \n",
       "2  75    4    4     0    0    0    0  1985   85.3  80  ...  92.1     5    0   \n",
       "3  75    4    4     0    0    0    0  2399  108.0  93  ...  96.5     5    0   \n",
       "4  75    4    4     0    0    0    0  2472  119.1  97  ...  98.4     4    0   \n",
       "\n",
       "   eur   sales  markup  origin_Europe  origin_Asian  origin_U.S.  mpg  \n",
       "0    0   64922  2.2030              0             1            0   18  \n",
       "1    0  151177  1.7734              0             1            0   21  \n",
       "2    0  140039  1.7593              0             1            0   27  \n",
       "3    0   50914  2.1476              0             1            0   22  \n",
       "4    0   18527  2.4706              0             1            0   22  \n",
       "\n",
       "[5 rows x 22 columns]"
      ]
     },
     "execution_count": 19,
     "metadata": {},
     "output_type": "execute_result"
    }
   ],
   "source": [
    "df_training = select_features(df_training, features)\n",
    "df_training.head()"
   ]
  },
  {
   "cell_type": "code",
   "execution_count": 20,
   "id": "c10475bd",
   "metadata": {},
   "outputs": [
    {
     "data": {
      "image/png": "[encoded data removed]",
      "text/plain": [
       "<Figure size 1440x576 with 2 Axes>"
      ]
     },
     "metadata": {},
     "output_type": "display_data"
    }
   ],
   "source": [
    "plt.figure(figsize=(20, 8))\n",
    "heatmap = sns.heatmap(df_training.corr())\n"
   ]
  },
  {
   "cell_type": "markdown",
   "id": "2b9af55d",
   "metadata": {},
   "source": [
    "## Building a RandomForestRegressor\n",
    "\n",
    "Using the sklearn package, we are building a model to predict the mpg of a vehicle based on the features from the dataset."
   ]
  },
  {
   "cell_type": "code",
   "execution_count": 21,
   "id": "8cf35fdb",
   "metadata": {},
   "outputs": [
    {
     "name": "stdout",
     "output_type": "stream",
     "text": [
      "<class 'pandas.core.frame.DataFrame'>\n",
      "RangeIndex: 300 entries, 0 to 299\n",
      "Data columns (total 27 columns):\n",
      " #   Column         Non-Null Count  Dtype  \n",
      "---  ------         --------------  -----  \n",
      " 0   Unnamed: 0     300 non-null    int64  \n",
      " 1   id             300 non-null    int64  \n",
      " 2   maker          300 non-null    object \n",
      " 3   model          300 non-null    object \n",
      " 4   yr             300 non-null    int64  \n",
      " 5   cyl            300 non-null    int64  \n",
      " 6   2wh            300 non-null    int64  \n",
      " 7   auto           300 non-null    int64  \n",
      " 8   p/s            300 non-null    int64  \n",
      " 9   a/c            300 non-null    int64  \n",
      " 10  fro            300 non-null    int64  \n",
      " 11  wght           300 non-null    int64  \n",
      " 12  disp           300 non-null    float64\n",
      " 13  hp             300 non-null    int64  \n",
      " 14  lngth          300 non-null    float64\n",
      " 15  wdth           300 non-null    float64\n",
      " 16  wb             300 non-null    float64\n",
      " 17  reli           300 non-null    int64  \n",
      " 18  dom            300 non-null    int64  \n",
      " 19  eur            300 non-null    int64  \n",
      " 20  sales          300 non-null    int64  \n",
      " 21  price          300 non-null    float64\n",
      " 22  markup         300 non-null    float64\n",
      " 23  mpg            300 non-null    object \n",
      " 24  origin_Asia    300 non-null    uint8  \n",
      " 25  origin_Europe  300 non-null    uint8  \n",
      " 26  origin_US      300 non-null    uint8  \n",
      "dtypes: float64(6), int64(15), object(3), uint8(3)\n",
      "memory usage: 57.3+ KB\n"
     ]
    }
   ],
   "source": [
    "df_testing.info()"
   ]
  },
  {
   "cell_type": "code",
   "execution_count": 22,
   "id": "8ff2c113",
   "metadata": {},
   "outputs": [
    {
     "name": "stdout",
     "output_type": "stream",
     "text": [
      "<class 'pandas.core.frame.DataFrame'>\n",
      "RangeIndex: 1500 entries, 0 to 1499\n",
      "Data columns (total 22 columns):\n",
      " #   Column         Non-Null Count  Dtype  \n",
      "---  ------         --------------  -----  \n",
      " 0   yr             1500 non-null   int64  \n",
      " 1   cyl            1500 non-null   int64  \n",
      " 2   2wh            1500 non-null   int64  \n",
      " 3   auto           1500 non-null   int64  \n",
      " 4   p/s            1500 non-null   int64  \n",
      " 5   a/c            1500 non-null   int64  \n",
      " 6   fro            1500 non-null   int64  \n",
      " 7   wght           1500 non-null   int64  \n",
      " 8   disp           1500 non-null   float64\n",
      " 9   hp             1500 non-null   int64  \n",
      " 10  lngth          1500 non-null   float64\n",
      " 11  wdth           1500 non-null   float64\n",
      " 12  wb             1500 non-null   float64\n",
      " 13  reli           1500 non-null   int64  \n",
      " 14  dom            1500 non-null   int64  \n",
      " 15  eur            1500 non-null   int64  \n",
      " 16  sales          1500 non-null   int64  \n",
      " 17  markup         1500 non-null   float64\n",
      " 18  origin_Europe  1500 non-null   uint8  \n",
      " 19  origin_Asian   1500 non-null   uint8  \n",
      " 20  origin_U.S.    1500 non-null   uint8  \n",
      " 21  mpg            1500 non-null   int64  \n",
      "dtypes: float64(5), int64(14), uint8(3)\n",
      "memory usage: 227.2 KB\n"
     ]
    }
   ],
   "source": [
    "df_training.info()"
   ]
  },
  {
   "cell_type": "code",
   "execution_count": 23,
   "id": "3364f055",
   "metadata": {},
   "outputs": [],
   "source": [
    "## Making the training set and testing set have same features, so I drop make and model from testing\n",
    "drop = [\"maker\",\"model\",\"mpg\"]\n",
    "df_testing.drop(labels=drop,axis=1,inplace=True)\n"
   ]
  },
  {
   "cell_type": "markdown",
   "id": "0ad45531",
   "metadata": {},
   "source": [
    "## Splitting the Training Set\n",
    "\n",
    "Here we split the training set into a training a testing set. This testing set that \n",
    "we derive from the training set is used to evaluate the accuracy of our model.\n",
    "Then we can apply the model to the actual testing set to evaluate the MAPE."
   ]
  },
  {
   "cell_type": "code",
   "execution_count": 24,
   "id": "b32e6417",
   "metadata": {},
   "outputs": [],
   "source": [
    "x = df_training.loc[:,df_training.columns !='mpg']\n",
    "y = df_training[\"mpg\"]\n",
    "x_train, x_test, y_train, y_test = train_test_split(x,y,test_size=0.33, random_state=42)\n"
   ]
  },
  {
   "cell_type": "code",
   "execution_count": 25,
   "id": "955fd809",
   "metadata": {},
   "outputs": [],
   "source": [
    "# Create the model\n",
    "RF = RandomForestRegressor(n_estimators=100, criterion='absolute_error')"
   ]
  },
  {
   "cell_type": "code",
   "execution_count": 26,
   "id": "b20f2460",
   "metadata": {},
   "outputs": [
    {
     "data": {
      "text/html": [
       "<style>#sk-container-id-1 {color: black;background-color: white;}#sk-container-id-1 pre{padding: 0;}#sk-container-id-1 div.sk-toggleable {background-color: white;}#sk-container-id-1 label.sk-toggleable__label {cursor: pointer;display: block;width: 100%;margin-bottom: 0;padding: 0.3em;box-sizing: border-box;text-align: center;}#sk-container-id-1 label.sk-toggleable__label-arrow:before {content: \"▸\";float: left;margin-right: 0.25em;color: #696969;}#sk-container-id-1 label.sk-toggleable__label-arrow:hover:before {color: black;}#sk-container-id-1 div.sk-estimator:hover label.sk-toggleable__label-arrow:before {color: black;}#sk-container-id-1 div.sk-toggleable__content {max-height: 0;max-width: 0;overflow: hidden;text-align: left;background-color: #f0f8ff;}#sk-container-id-1 div.sk-toggleable__content pre {margin: 0.2em;color: black;border-radius: 0.25em;background-color: #f0f8ff;}#sk-container-id-1 input.sk-toggleable__control:checked~div.sk-toggleable__content {max-height: 200px;max-width: 100%;overflow: auto;}#sk-container-id-1 input.sk-toggleable__control:checked~label.sk-toggleable__label-arrow:before {content: \"▾\";}#sk-container-id-1 div.sk-estimator input.sk-toggleable__control:checked~label.sk-toggleable__label {background-color: #d4ebff;}#sk-container-id-1 div.sk-label input.sk-toggleable__control:checked~label.sk-toggleable__label {background-color: #d4ebff;}#sk-container-id-1 input.sk-hidden--visually {border: 0;clip: rect(1px 1px 1px 1px);clip: rect(1px, 1px, 1px, 1px);height: 1px;margin: -1px;overflow: hidden;padding: 0;position: absolute;width: 1px;}#sk-container-id-1 div.sk-estimator {font-family: monospace;background-color: #f0f8ff;border: 1px dotted black;border-radius: 0.25em;box-sizing: border-box;margin-bottom: 0.5em;}#sk-container-id-1 div.sk-estimator:hover {background-color: #d4ebff;}#sk-container-id-1 div.sk-parallel-item::after {content: \"\";width: 100%;border-bottom: 1px solid gray;flex-grow: 1;}#sk-container-id-1 div.sk-label:hover label.sk-toggleable__label {background-color: #d4ebff;}#sk-container-id-1 div.sk-serial::before {content: \"\";position: absolute;border-left: 1px solid gray;box-sizing: border-box;top: 0;bottom: 0;left: 50%;z-index: 0;}#sk-container-id-1 div.sk-serial {display: flex;flex-direction: column;align-items: center;background-color: white;padding-right: 0.2em;padding-left: 0.2em;position: relative;}#sk-container-id-1 div.sk-item {position: relative;z-index: 1;}#sk-container-id-1 div.sk-parallel {display: flex;align-items: stretch;justify-content: center;background-color: white;position: relative;}#sk-container-id-1 div.sk-item::before, #sk-container-id-1 div.sk-parallel-item::before {content: \"\";position: absolute;border-left: 1px solid gray;box-sizing: border-box;top: 0;bottom: 0;left: 50%;z-index: -1;}#sk-container-id-1 div.sk-parallel-item {display: flex;flex-direction: column;z-index: 1;position: relative;background-color: white;}#sk-container-id-1 div.sk-parallel-item:first-child::after {align-self: flex-end;width: 50%;}#sk-container-id-1 div.sk-parallel-item:last-child::after {align-self: flex-start;width: 50%;}#sk-container-id-1 div.sk-parallel-item:only-child::after {width: 0;}#sk-container-id-1 div.sk-dashed-wrapped {border: 1px dashed gray;margin: 0 0.4em 0.5em 0.4em;box-sizing: border-box;padding-bottom: 0.4em;background-color: white;}#sk-container-id-1 div.sk-label label {font-family: monospace;font-weight: bold;display: inline-block;line-height: 1.2em;}#sk-container-id-1 div.sk-label-container {text-align: center;}#sk-container-id-1 div.sk-container {/* jupyter's `normalize.less` sets `[hidden] { display: none; }` but bootstrap.min.css set `[hidden] { display: none !important; }` so we also need the `!important` here to be able to override the default hidden behavior on the sphinx rendered scikit-learn.org. See: https://github.com/scikit-learn/scikit-learn/issues/21755 */display: inline-block !important;position: relative;}#sk-container-id-1 div.sk-text-repr-fallback {display: none;}</style><div id=\"sk-container-id-1\" class=\"sk-top-container\"><div class=\"sk-text-repr-fallback\"><pre>RandomForestRegressor(criterion=&#x27;absolute_error&#x27;)</pre><b>In a Jupyter environment, please rerun this cell to show the HTML representation or trust the notebook. <br />On GitHub, the HTML representation is unable to render, please try loading this page with nbviewer.org.</b></div><div class=\"sk-container\" hidden><div class=\"sk-item\"><div class=\"sk-estimator sk-toggleable\"><input class=\"sk-toggleable__control sk-hidden--visually\" id=\"sk-estimator-id-1\" type=\"checkbox\" checked><label for=\"sk-estimator-id-1\" class=\"sk-toggleable__label sk-toggleable__label-arrow\">RandomForestRegressor</label><div class=\"sk-toggleable__content\"><pre>RandomForestRegressor(criterion=&#x27;absolute_error&#x27;)</pre></div></div></div></div></div>"
      ],
      "text/plain": [
       "RandomForestRegressor(criterion='absolute_error')"
      ]
     },
     "execution_count": 26,
     "metadata": {},
     "output_type": "execute_result"
    }
   ],
   "source": [
    "# Fit the model\n",
    "RF.fit(x_train,y_train)"
   ]
  },
  {
   "cell_type": "code",
   "execution_count": 27,
   "id": "7817f4e2",
   "metadata": {},
   "outputs": [
    {
     "name": "stdout",
     "output_type": "stream",
     "text": [
      "{'yr': 0.08152961227726986, 'cyl': 0.3593474534883735, '2wh': 0.00642536255098947, 'auto': 0.0024248706032058416, 'p/s': 0.0023518544547020625, 'a/c': 0.0021011752731046316, 'fro': 0.003582974593080701, 'wght': 0.14588402469341685, 'disp': 0.1195707511684692, 'hp': 0.05768161860996991, 'lngth': 0.025911015143649112, 'wdth': 0.02583065145122928, 'wb': 0.028494322072191797, 'reli': 0.016993160229167158, 'dom': 0.0018329678703721734, 'eur': 0.005790042110008469, 'sales': 0.05166329586760858, 'markup': 0.051393344762846196, 'origin_Europe': 0.0065296950552395, 'origin_Asian': 0.0024367934860540126, 'origin_U.S.': 0.002225014239051654}\n"
     ]
    }
   ],
   "source": [
    "importance = RF.feature_importances_\n",
    "list(importance)\n",
    "plotter = dict(zip(features,importance))\n",
    "# plt.bar(range(len(plotter)), importance, tick_label=features)\n",
    "# plt.show()\n",
    "\n",
    "# feature importances\n",
    "print(plotter)"
   ]
  },
  {
   "cell_type": "code",
   "execution_count": 28,
   "id": "09b21b3e",
   "metadata": {},
   "outputs": [],
   "source": [
    "# Make predicitons\n",
    "y_prediction=RF.predict(x_test)"
   ]
  },
  {
   "cell_type": "markdown",
   "id": "6c858920",
   "metadata": {},
   "source": [
    "## To Evaluate the Model\n",
    "\n",
    "Prior to running the model on the actual testing set, let's evaluate the \n",
    "accuracy of the model using MAPE as the metric. First, we will zip the y_test and the y_prediction into a 2-D array."
   ]
  },
  {
   "cell_type": "code",
   "execution_count": 29,
   "id": "eac908b3",
   "metadata": {},
   "outputs": [],
   "source": [
    "ys = np.dstack((y_test,y_prediction))"
   ]
  },
  {
   "cell_type": "code",
   "execution_count": 30,
   "id": "26532bdb",
   "metadata": {},
   "outputs": [],
   "source": [
    "def mape(y_train, y_prediction):\n",
    "    mape = np.mean(np.abs((y_test - y_prediction)/y_test)) * 100\n",
    "    return mape"
   ]
  },
  {
   "cell_type": "code",
   "execution_count": 31,
   "id": "4d2a19fc",
   "metadata": {},
   "outputs": [
    {
     "data": {
      "text/plain": [
       "6.100602829430367"
      ]
     },
     "execution_count": 31,
     "metadata": {},
     "output_type": "execute_result"
    }
   ],
   "source": [
    "mape(y_train, y_prediction)"
   ]
  },
  {
   "cell_type": "code",
   "execution_count": 32,
   "id": "1649aa3b",
   "metadata": {},
   "outputs": [
    {
     "data": {
      "text/plain": [
       "-0.017647381365159972"
      ]
     },
     "execution_count": 32,
     "metadata": {},
     "output_type": "execute_result"
    }
   ],
   "source": [
    "percent_error = (abs(y_test) - abs(y_prediction)) / abs(y_test)\n",
    "# sum(error)/495\n",
    "sum(percent_error)/len(y_test)\n",
    "\n"
   ]
  },
  {
   "cell_type": "markdown",
   "id": "683865c0",
   "metadata": {},
   "source": [
    "Depending on the exact split the MAPE is between 0.14-0.18, found by summing the absolute values of the error and dividing by the size of the testing set.\n",
    "\n",
    "Perhaps there is a model that minimizes this error further."
   ]
  },
  {
   "cell_type": "markdown",
   "id": "31913612",
   "metadata": {},
   "source": [
    "## Tuning the Model\n",
    "\n",
    "The goal here is to see if I can reduce the MAPE by tuning the model, by using only statistically significant features."
   ]
  },
  {
   "cell_type": "markdown",
   "id": "dee49b4b",
   "metadata": {},
   "source": [
    "## Applying the model to the actual testing set"
   ]
  },
  {
   "cell_type": "code",
   "execution_count": 33,
   "id": "4d5c3352",
   "metadata": {},
   "outputs": [],
   "source": [
    "x = df_training.loc[:,df_training.columns !='mpg'].values\n",
    "test = df_testing.values\n",
    "y = target.values"
   ]
  },
  {
   "cell_type": "code",
   "execution_count": 117,
   "id": "91ca658f",
   "metadata": {},
   "outputs": [
    {
     "name": "stderr",
     "output_type": "stream",
     "text": [
      "C:\\Users\\Matthew\\anaconda3\\lib\\site-packages\\sklearn\\base.py:450: UserWarning: X does not have valid feature names, but RandomForestRegressor was fitted with feature names\n",
      "  warnings.warn(\n"
     ]
    },
    {
     "ename": "ValueError",
     "evalue": "could not convert string to float: '?'",
     "output_type": "error",
     "traceback": [
      "\u001b[1;31m---------------------------------------------------------------------------\u001b[0m",
      "\u001b[1;31mValueError\u001b[0m                                Traceback (most recent call last)",
      "Input \u001b[1;32mIn [117]\u001b[0m, in \u001b[0;36m<cell line: 1>\u001b[1;34m()\u001b[0m\n\u001b[1;32m----> 1\u001b[0m predictions \u001b[38;5;241m=\u001b[39m \u001b[43mRF\u001b[49m\u001b[38;5;241;43m.\u001b[39;49m\u001b[43mpredict\u001b[49m\u001b[43m(\u001b[49m\u001b[43mtest\u001b[49m\u001b[43m)\u001b[49m\n",
      "File \u001b[1;32m~\\anaconda3\\lib\\site-packages\\sklearn\\ensemble\\_forest.py:991\u001b[0m, in \u001b[0;36mForestRegressor.predict\u001b[1;34m(self, X)\u001b[0m\n\u001b[0;32m    989\u001b[0m check_is_fitted(\u001b[38;5;28mself\u001b[39m)\n\u001b[0;32m    990\u001b[0m \u001b[38;5;66;03m# Check data\u001b[39;00m\n\u001b[1;32m--> 991\u001b[0m X \u001b[38;5;241m=\u001b[39m \u001b[38;5;28;43mself\u001b[39;49m\u001b[38;5;241;43m.\u001b[39;49m\u001b[43m_validate_X_predict\u001b[49m\u001b[43m(\u001b[49m\u001b[43mX\u001b[49m\u001b[43m)\u001b[49m\n\u001b[0;32m    993\u001b[0m \u001b[38;5;66;03m# Assign chunk of trees to jobs\u001b[39;00m\n\u001b[0;32m    994\u001b[0m n_jobs, _, _ \u001b[38;5;241m=\u001b[39m _partition_estimators(\u001b[38;5;28mself\u001b[39m\u001b[38;5;241m.\u001b[39mn_estimators, \u001b[38;5;28mself\u001b[39m\u001b[38;5;241m.\u001b[39mn_jobs)\n",
      "File \u001b[1;32m~\\anaconda3\\lib\\site-packages\\sklearn\\ensemble\\_forest.py:605\u001b[0m, in \u001b[0;36mBaseForest._validate_X_predict\u001b[1;34m(self, X)\u001b[0m\n\u001b[0;32m    602\u001b[0m \u001b[38;5;124;03m\"\"\"\u001b[39;00m\n\u001b[0;32m    603\u001b[0m \u001b[38;5;124;03mValidate X whenever one tries to predict, apply, predict_proba.\"\"\"\u001b[39;00m\n\u001b[0;32m    604\u001b[0m check_is_fitted(\u001b[38;5;28mself\u001b[39m)\n\u001b[1;32m--> 605\u001b[0m X \u001b[38;5;241m=\u001b[39m \u001b[38;5;28;43mself\u001b[39;49m\u001b[38;5;241;43m.\u001b[39;49m\u001b[43m_validate_data\u001b[49m\u001b[43m(\u001b[49m\u001b[43mX\u001b[49m\u001b[43m,\u001b[49m\u001b[43m \u001b[49m\u001b[43mdtype\u001b[49m\u001b[38;5;241;43m=\u001b[39;49m\u001b[43mDTYPE\u001b[49m\u001b[43m,\u001b[49m\u001b[43m \u001b[49m\u001b[43maccept_sparse\u001b[49m\u001b[38;5;241;43m=\u001b[39;49m\u001b[38;5;124;43m\"\u001b[39;49m\u001b[38;5;124;43mcsr\u001b[39;49m\u001b[38;5;124;43m\"\u001b[39;49m\u001b[43m,\u001b[49m\u001b[43m \u001b[49m\u001b[43mreset\u001b[49m\u001b[38;5;241;43m=\u001b[39;49m\u001b[38;5;28;43;01mFalse\u001b[39;49;00m\u001b[43m)\u001b[49m\n\u001b[0;32m    606\u001b[0m \u001b[38;5;28;01mif\u001b[39;00m issparse(X) \u001b[38;5;129;01mand\u001b[39;00m (X\u001b[38;5;241m.\u001b[39mindices\u001b[38;5;241m.\u001b[39mdtype \u001b[38;5;241m!=\u001b[39m np\u001b[38;5;241m.\u001b[39mintc \u001b[38;5;129;01mor\u001b[39;00m X\u001b[38;5;241m.\u001b[39mindptr\u001b[38;5;241m.\u001b[39mdtype \u001b[38;5;241m!=\u001b[39m np\u001b[38;5;241m.\u001b[39mintc):\n\u001b[0;32m    607\u001b[0m     \u001b[38;5;28;01mraise\u001b[39;00m \u001b[38;5;167;01mValueError\u001b[39;00m(\u001b[38;5;124m\"\u001b[39m\u001b[38;5;124mNo support for np.int64 index based sparse matrices\u001b[39m\u001b[38;5;124m\"\u001b[39m)\n",
      "File \u001b[1;32m~\\anaconda3\\lib\\site-packages\\sklearn\\base.py:577\u001b[0m, in \u001b[0;36mBaseEstimator._validate_data\u001b[1;34m(self, X, y, reset, validate_separately, **check_params)\u001b[0m\n\u001b[0;32m    575\u001b[0m     \u001b[38;5;28;01mraise\u001b[39;00m \u001b[38;5;167;01mValueError\u001b[39;00m(\u001b[38;5;124m\"\u001b[39m\u001b[38;5;124mValidation should be done on X, y or both.\u001b[39m\u001b[38;5;124m\"\u001b[39m)\n\u001b[0;32m    576\u001b[0m \u001b[38;5;28;01melif\u001b[39;00m \u001b[38;5;129;01mnot\u001b[39;00m no_val_X \u001b[38;5;129;01mand\u001b[39;00m no_val_y:\n\u001b[1;32m--> 577\u001b[0m     X \u001b[38;5;241m=\u001b[39m check_array(X, input_name\u001b[38;5;241m=\u001b[39m\u001b[38;5;124m\"\u001b[39m\u001b[38;5;124mX\u001b[39m\u001b[38;5;124m\"\u001b[39m, \u001b[38;5;241m*\u001b[39m\u001b[38;5;241m*\u001b[39mcheck_params)\n\u001b[0;32m    578\u001b[0m     out \u001b[38;5;241m=\u001b[39m X\n\u001b[0;32m    579\u001b[0m \u001b[38;5;28;01melif\u001b[39;00m no_val_X \u001b[38;5;129;01mand\u001b[39;00m \u001b[38;5;129;01mnot\u001b[39;00m no_val_y:\n",
      "File \u001b[1;32m~\\anaconda3\\lib\\site-packages\\sklearn\\utils\\validation.py:856\u001b[0m, in \u001b[0;36mcheck_array\u001b[1;34m(array, accept_sparse, accept_large_sparse, dtype, order, copy, force_all_finite, ensure_2d, allow_nd, ensure_min_samples, ensure_min_features, estimator, input_name)\u001b[0m\n\u001b[0;32m    854\u001b[0m         array \u001b[38;5;241m=\u001b[39m array\u001b[38;5;241m.\u001b[39mastype(dtype, casting\u001b[38;5;241m=\u001b[39m\u001b[38;5;124m\"\u001b[39m\u001b[38;5;124munsafe\u001b[39m\u001b[38;5;124m\"\u001b[39m, copy\u001b[38;5;241m=\u001b[39m\u001b[38;5;28;01mFalse\u001b[39;00m)\n\u001b[0;32m    855\u001b[0m     \u001b[38;5;28;01melse\u001b[39;00m:\n\u001b[1;32m--> 856\u001b[0m         array \u001b[38;5;241m=\u001b[39m \u001b[43mnp\u001b[49m\u001b[38;5;241;43m.\u001b[39;49m\u001b[43masarray\u001b[49m\u001b[43m(\u001b[49m\u001b[43marray\u001b[49m\u001b[43m,\u001b[49m\u001b[43m \u001b[49m\u001b[43morder\u001b[49m\u001b[38;5;241;43m=\u001b[39;49m\u001b[43morder\u001b[49m\u001b[43m,\u001b[49m\u001b[43m \u001b[49m\u001b[43mdtype\u001b[49m\u001b[38;5;241;43m=\u001b[39;49m\u001b[43mdtype\u001b[49m\u001b[43m)\u001b[49m\n\u001b[0;32m    857\u001b[0m \u001b[38;5;28;01mexcept\u001b[39;00m ComplexWarning \u001b[38;5;28;01mas\u001b[39;00m complex_warning:\n\u001b[0;32m    858\u001b[0m     \u001b[38;5;28;01mraise\u001b[39;00m \u001b[38;5;167;01mValueError\u001b[39;00m(\n\u001b[0;32m    859\u001b[0m         \u001b[38;5;124m\"\u001b[39m\u001b[38;5;124mComplex data not supported\u001b[39m\u001b[38;5;130;01m\\n\u001b[39;00m\u001b[38;5;132;01m{}\u001b[39;00m\u001b[38;5;130;01m\\n\u001b[39;00m\u001b[38;5;124m\"\u001b[39m\u001b[38;5;241m.\u001b[39mformat(array)\n\u001b[0;32m    860\u001b[0m     ) \u001b[38;5;28;01mfrom\u001b[39;00m \u001b[38;5;21;01mcomplex_warning\u001b[39;00m\n",
      "\u001b[1;31mValueError\u001b[0m: could not convert string to float: '?'"
     ]
    }
   ],
   "source": [
    "predictions = RF.predict(test)"
   ]
  },
  {
   "cell_type": "code",
   "execution_count": 45,
   "id": "19f3ddf6",
   "metadata": {},
   "outputs": [],
   "source": [
    "np.savetxt(\"predictions_RF2.csv\", \n",
    "           predictions,\n",
    "           delimiter =\", \", \n",
    "           fmt ='% s')"
   ]
  },
  {
   "cell_type": "code",
   "execution_count": 48,
   "id": "300e9c48",
   "metadata": {},
   "outputs": [
    {
     "data": {
      "text/html": [
       "<div>\n",
       "<style scoped>\n",
       "    .dataframe tbody tr th:only-of-type {\n",
       "        vertical-align: middle;\n",
       "    }\n",
       "\n",
       "    .dataframe tbody tr th {\n",
       "        vertical-align: top;\n",
       "    }\n",
       "\n",
       "    .dataframe thead th {\n",
       "        text-align: right;\n",
       "    }\n",
       "</style>\n",
       "<table border=\"1\" class=\"dataframe\">\n",
       "  <thead>\n",
       "    <tr style=\"text-align: right;\">\n",
       "      <th></th>\n",
       "      <th>0</th>\n",
       "    </tr>\n",
       "  </thead>\n",
       "  <tbody>\n",
       "    <tr>\n",
       "      <th>count</th>\n",
       "      <td>300.000000</td>\n",
       "    </tr>\n",
       "    <tr>\n",
       "      <th>mean</th>\n",
       "      <td>22.029433</td>\n",
       "    </tr>\n",
       "    <tr>\n",
       "      <th>std</th>\n",
       "      <td>5.537371</td>\n",
       "    </tr>\n",
       "    <tr>\n",
       "      <th>min</th>\n",
       "      <td>11.510000</td>\n",
       "    </tr>\n",
       "    <tr>\n",
       "      <th>25%</th>\n",
       "      <td>18.030000</td>\n",
       "    </tr>\n",
       "    <tr>\n",
       "      <th>50%</th>\n",
       "      <td>21.475000</td>\n",
       "    </tr>\n",
       "    <tr>\n",
       "      <th>75%</th>\n",
       "      <td>25.122500</td>\n",
       "    </tr>\n",
       "    <tr>\n",
       "      <th>max</th>\n",
       "      <td>43.770000</td>\n",
       "    </tr>\n",
       "  </tbody>\n",
       "</table>\n",
       "</div>"
      ],
      "text/plain": [
       "                0\n",
       "count  300.000000\n",
       "mean    22.029433\n",
       "std      5.537371\n",
       "min     11.510000\n",
       "25%     18.030000\n",
       "50%     21.475000\n",
       "75%     25.122500\n",
       "max     43.770000"
      ]
     },
     "execution_count": 48,
     "metadata": {},
     "output_type": "execute_result"
    }
   ],
   "source": [
    "predictions_df = pd.DataFrame(predictions)\n",
    "predictions_df.describe()"
   ]
  },
  {
   "cell_type": "markdown",
   "id": "f68ec753",
   "metadata": {},
   "source": [
    "The results of these predictions are saved in the file predictions_RF.csv. "
   ]
  },
  {
   "cell_type": "markdown",
   "id": "7da4ca30",
   "metadata": {},
   "source": [
    "## Decision Tree Regressor"
   ]
  },
  {
   "cell_type": "code",
   "execution_count": 61,
   "id": "385fd666",
   "metadata": {},
   "outputs": [
    {
     "name": "stdout",
     "output_type": "stream",
     "text": [
      "Tuned Decision Tree Parameters: {'max_depth': 7}\n",
      "Best score is 0.6982607742342479\n"
     ]
    }
   ],
   "source": [
    "# Instantiate model and fit to data; clf = classifier\n",
    "# Setup the hyperparameter grid\n",
    "# dep = np.array([1,2,3,4,5,6,7,8,9])\n",
    "param_grid = {'max_depth': [1,2,3,4,5,6,7,8,9]}\n",
    "\n",
    "# Instantiate a decision tree regressor: clf\n",
    "clf = tree.DecisionTreeRegressor()\n",
    "\n",
    "# Instantiate the GridSearchCV object: clf_cv\n",
    "clf_cv = GridSearchCV(clf, param_grid=param_grid, cv=5)\n",
    "\n",
    "# Fit it to the data\n",
    "clf_cv.fit(x, y)\n",
    "\n",
    "# Print the tuned parameter and score\n",
    "print(\"Tuned Decision Tree Parameters: {}\".format(clf_cv.best_params_))\n",
    "print(\"Best score is {}\".format(clf_cv.best_score_))\n"
   ]
  },
  {
   "cell_type": "code",
   "execution_count": 62,
   "id": "94c1ba52",
   "metadata": {},
   "outputs": [],
   "source": [
    "y_pred = clf_cv.predict(test)\n",
    "df_predictions['mpg'] = y_pred"
   ]
  },
  {
   "cell_type": "code",
   "execution_count": 63,
   "id": "78d6bbc2",
   "metadata": {},
   "outputs": [],
   "source": [
    "df_predictions[['id', 'mpg']].to_csv('predictions2.csv', index=False)"
   ]
  },
  {
   "cell_type": "markdown",
   "id": "3c62c717",
   "metadata": {},
   "source": [
    "## Using a Neural Network Model\n",
    "\n",
    "A random forest regressor is a good model; however the MAPE acheived was anywhere from 12-18%. The goal is to reduce the MAPE to less than 8%. Hopefully, the use of a neural network can reduced this error. IF not, let's reconsider the data pre-processing stage, and use more advanced strategies to avoid \"garbage in, garbage out\". Again, will split the training set into a training/fake testing sets, to evaluate the model before applying it to the actual testing set."
   ]
  },
  {
   "cell_type": "code",
   "execution_count": null,
   "id": "c264cbc3",
   "metadata": {},
   "outputs": [],
   "source": []
  }
 ],
 "metadata": {
  "kernelspec": {
   "display_name": "Python 3 (ipykernel)",
   "language": "python",
   "name": "python3"
  },
  "language_info": {
   "codemirror_mode": {
    "name": "ipython",
    "version": 3
   },
   "file_extension": ".py",
   "mimetype": "text/x-python",
   "name": "python",
   "nbconvert_exporter": "python",
   "pygments_lexer": "ipython3",
   "version": "3.9.12"
  }
 },
 "nbformat": 4,
 "nbformat_minor": 5
}
